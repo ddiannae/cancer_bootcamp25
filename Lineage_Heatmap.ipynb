{
 "cells": [
  {
   "cell_type": "code",
   "execution_count": null,
   "metadata": {},
   "outputs": [],
   "source": [
    "import pandas as pd\n",
    "import numpy as np\n",
    "from taigapy import create_taiga_client_v3\n",
    "from scipy.stats import pearsonr\n",
    "import matplotlib.pyplot as plt\n",
    "import seaborn as sns\n",
    "import re"
   ]
  },
  {
   "cell_type": "code",
   "execution_count": null,
   "metadata": {},
   "outputs": [],
   "source": [
    "correlation_df_all = pd.read_pickle(\"pydata/tf_dependency_e3ls_expr_correlation_bylineage.pkl\")"
   ]
  },
  {
   "cell_type": "code",
   "execution_count": null,
   "metadata": {},
   "outputs": [],
   "source": [
    "for lineage in correlation_df_all['lineage'].unique(): \n",
    "    \n",
    "    l_corr = correlation_df_all.loc[correlation_df_all['lineage'] == lineage,:]\n",
    "    \n",
    "    matrix_l_corr = l_corr.pivot(index='TF', columns='E3_ligase', values='corr')\n",
    "\n",
    "\n",
    "    g=sns.clustermap(matrix_l_corr, \n",
    "            xticklabels = False, \n",
    "            yticklabels = False, \n",
    "            cmap='coolwarm')\n",
    "\n",
    "    g.ax_heatmap.set_xlabel('E3 ligase expression')\n",
    "    g.ax_heatmap.set_ylabel('TF dependencies')\n",
    "    plt.title(f'Lineage: {lineage}', pad=20)\n",
    "    plt.show()"
   ]
  }
 ],
 "metadata": {
  "language_info": {
   "name": "python"
  }
 },
 "nbformat": 4,
 "nbformat_minor": 2
}
