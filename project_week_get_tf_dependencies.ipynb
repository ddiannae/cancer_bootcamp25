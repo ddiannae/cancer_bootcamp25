{
 "cells": [
  {
   "cell_type": "code",
   "execution_count": 2,
   "metadata": {},
   "outputs": [],
   "source": [
    "import pandas as pd\n",
    "import numpy as np\n",
    "from taigapy import create_taiga_client_v3\n"
   ]
  },
  {
   "cell_type": "code",
   "execution_count": 3,
   "metadata": {},
   "outputs": [],
   "source": [
    "tc= create_taiga_client_v3()"
   ]
  },
  {
   "cell_type": "code",
   "execution_count": 4,
   "metadata": {},
   "outputs": [],
   "source": [
    "crispr_dependencies = tc.get(name='internal-24q4-8c04', version=117, file='CRISPRGeneDependency')"
   ]
  },
  {
   "cell_type": "code",
   "execution_count": 5,
   "metadata": {},
   "outputs": [
    {
     "data": {
      "text/html": [
       "<div>\n",
       "<style scoped>\n",
       "    .dataframe tbody tr th:only-of-type {\n",
       "        vertical-align: middle;\n",
       "    }\n",
       "\n",
       "    .dataframe tbody tr th {\n",
       "        vertical-align: top;\n",
       "    }\n",
       "\n",
       "    .dataframe thead th {\n",
       "        text-align: right;\n",
       "    }\n",
       "</style>\n",
       "<table border=\"1\" class=\"dataframe\">\n",
       "  <thead>\n",
       "    <tr style=\"text-align: right;\">\n",
       "      <th></th>\n",
       "      <th>A1BG (1)</th>\n",
       "      <th>A1CF (29974)</th>\n",
       "      <th>A2M (2)</th>\n",
       "      <th>A2ML1 (144568)</th>\n",
       "      <th>A3GALT2 (127550)</th>\n",
       "      <th>A4GALT (53947)</th>\n",
       "      <th>A4GNT (51146)</th>\n",
       "      <th>AAAS (8086)</th>\n",
       "      <th>AACS (65985)</th>\n",
       "      <th>AADAC (13)</th>\n",
       "      <th>...</th>\n",
       "      <th>ZWILCH (55055)</th>\n",
       "      <th>ZWINT (11130)</th>\n",
       "      <th>ZXDA (7789)</th>\n",
       "      <th>ZXDB (158586)</th>\n",
       "      <th>ZXDC (79364)</th>\n",
       "      <th>ZYG11A (440590)</th>\n",
       "      <th>ZYG11B (79699)</th>\n",
       "      <th>ZYX (7791)</th>\n",
       "      <th>ZZEF1 (23140)</th>\n",
       "      <th>ZZZ3 (26009)</th>\n",
       "    </tr>\n",
       "  </thead>\n",
       "  <tbody>\n",
       "    <tr>\n",
       "      <th>ACH-000001</th>\n",
       "      <td>0.081472</td>\n",
       "      <td>0.019557</td>\n",
       "      <td>0.013884</td>\n",
       "      <td>0.100987</td>\n",
       "      <td>0.022365</td>\n",
       "      <td>0.003256</td>\n",
       "      <td>0.043409</td>\n",
       "      <td>0.039893</td>\n",
       "      <td>0.004096</td>\n",
       "      <td>0.022905</td>\n",
       "      <td>...</td>\n",
       "      <td>0.073907</td>\n",
       "      <td>0.011079</td>\n",
       "      <td>0.005414</td>\n",
       "      <td>0.002309</td>\n",
       "      <td>0.004529</td>\n",
       "      <td>0.168268</td>\n",
       "      <td>0.014377</td>\n",
       "      <td>0.011050</td>\n",
       "      <td>0.005369</td>\n",
       "      <td>0.402964</td>\n",
       "    </tr>\n",
       "    <tr>\n",
       "      <th>ACH-000004</th>\n",
       "      <td>0.030400</td>\n",
       "      <td>0.042046</td>\n",
       "      <td>0.047038</td>\n",
       "      <td>0.042626</td>\n",
       "      <td>0.016766</td>\n",
       "      <td>0.076369</td>\n",
       "      <td>0.001879</td>\n",
       "      <td>0.032660</td>\n",
       "      <td>0.002555</td>\n",
       "      <td>0.005717</td>\n",
       "      <td>...</td>\n",
       "      <td>0.197319</td>\n",
       "      <td>0.421886</td>\n",
       "      <td>0.002982</td>\n",
       "      <td>0.007350</td>\n",
       "      <td>0.008094</td>\n",
       "      <td>0.009782</td>\n",
       "      <td>0.264322</td>\n",
       "      <td>0.007282</td>\n",
       "      <td>0.001484</td>\n",
       "      <td>0.035261</td>\n",
       "    </tr>\n",
       "    <tr>\n",
       "      <th>ACH-000005</th>\n",
       "      <td>0.069625</td>\n",
       "      <td>0.014287</td>\n",
       "      <td>0.005318</td>\n",
       "      <td>0.010318</td>\n",
       "      <td>0.048139</td>\n",
       "      <td>0.119415</td>\n",
       "      <td>0.006585</td>\n",
       "      <td>0.026757</td>\n",
       "      <td>0.051152</td>\n",
       "      <td>0.016791</td>\n",
       "      <td>...</td>\n",
       "      <td>0.187949</td>\n",
       "      <td>0.267061</td>\n",
       "      <td>0.035086</td>\n",
       "      <td>0.027052</td>\n",
       "      <td>0.018857</td>\n",
       "      <td>0.067349</td>\n",
       "      <td>0.029373</td>\n",
       "      <td>0.025776</td>\n",
       "      <td>0.012010</td>\n",
       "      <td>0.037007</td>\n",
       "    </tr>\n",
       "    <tr>\n",
       "      <th>ACH-000007</th>\n",
       "      <td>0.026158</td>\n",
       "      <td>0.051310</td>\n",
       "      <td>0.005926</td>\n",
       "      <td>0.007157</td>\n",
       "      <td>0.009359</td>\n",
       "      <td>0.016853</td>\n",
       "      <td>0.018201</td>\n",
       "      <td>0.066871</td>\n",
       "      <td>0.069209</td>\n",
       "      <td>0.002658</td>\n",
       "      <td>...</td>\n",
       "      <td>0.304459</td>\n",
       "      <td>0.299673</td>\n",
       "      <td>0.022158</td>\n",
       "      <td>0.001231</td>\n",
       "      <td>0.008503</td>\n",
       "      <td>0.024572</td>\n",
       "      <td>0.363707</td>\n",
       "      <td>0.011464</td>\n",
       "      <td>0.181764</td>\n",
       "      <td>0.310430</td>\n",
       "    </tr>\n",
       "    <tr>\n",
       "      <th>ACH-000009</th>\n",
       "      <td>0.050087</td>\n",
       "      <td>0.124279</td>\n",
       "      <td>0.013026</td>\n",
       "      <td>0.015877</td>\n",
       "      <td>0.008146</td>\n",
       "      <td>0.086953</td>\n",
       "      <td>0.024034</td>\n",
       "      <td>0.083313</td>\n",
       "      <td>0.017457</td>\n",
       "      <td>0.016134</td>\n",
       "      <td>...</td>\n",
       "      <td>0.418924</td>\n",
       "      <td>0.284402</td>\n",
       "      <td>0.045003</td>\n",
       "      <td>0.001707</td>\n",
       "      <td>0.064220</td>\n",
       "      <td>0.068912</td>\n",
       "      <td>0.673399</td>\n",
       "      <td>0.011075</td>\n",
       "      <td>0.035978</td>\n",
       "      <td>0.306134</td>\n",
       "    </tr>\n",
       "    <tr>\n",
       "      <th>...</th>\n",
       "      <td>...</td>\n",
       "      <td>...</td>\n",
       "      <td>...</td>\n",
       "      <td>...</td>\n",
       "      <td>...</td>\n",
       "      <td>...</td>\n",
       "      <td>...</td>\n",
       "      <td>...</td>\n",
       "      <td>...</td>\n",
       "      <td>...</td>\n",
       "      <td>...</td>\n",
       "      <td>...</td>\n",
       "      <td>...</td>\n",
       "      <td>...</td>\n",
       "      <td>...</td>\n",
       "      <td>...</td>\n",
       "      <td>...</td>\n",
       "      <td>...</td>\n",
       "      <td>...</td>\n",
       "      <td>...</td>\n",
       "      <td>...</td>\n",
       "    </tr>\n",
       "    <tr>\n",
       "      <th>ACH-003578</th>\n",
       "      <td>0.111139</td>\n",
       "      <td>0.033585</td>\n",
       "      <td>0.050142</td>\n",
       "      <td>0.012760</td>\n",
       "      <td>0.022701</td>\n",
       "      <td>0.039675</td>\n",
       "      <td>0.006000</td>\n",
       "      <td>0.071651</td>\n",
       "      <td>0.040592</td>\n",
       "      <td>0.015888</td>\n",
       "      <td>...</td>\n",
       "      <td>0.390708</td>\n",
       "      <td>0.640540</td>\n",
       "      <td>0.027122</td>\n",
       "      <td>0.004307</td>\n",
       "      <td>0.111400</td>\n",
       "      <td>0.035463</td>\n",
       "      <td>0.081754</td>\n",
       "      <td>0.031580</td>\n",
       "      <td>0.087841</td>\n",
       "      <td>0.449379</td>\n",
       "    </tr>\n",
       "    <tr>\n",
       "      <th>ACH-003580</th>\n",
       "      <td>0.011859</td>\n",
       "      <td>0.003230</td>\n",
       "      <td>0.044699</td>\n",
       "      <td>0.009610</td>\n",
       "      <td>0.005984</td>\n",
       "      <td>0.020530</td>\n",
       "      <td>0.006781</td>\n",
       "      <td>0.144694</td>\n",
       "      <td>0.013001</td>\n",
       "      <td>0.001769</td>\n",
       "      <td>...</td>\n",
       "      <td>0.277001</td>\n",
       "      <td>0.824403</td>\n",
       "      <td>0.014370</td>\n",
       "      <td>0.001882</td>\n",
       "      <td>0.102872</td>\n",
       "      <td>0.121796</td>\n",
       "      <td>0.240057</td>\n",
       "      <td>0.006161</td>\n",
       "      <td>0.086230</td>\n",
       "      <td>0.285028</td>\n",
       "    </tr>\n",
       "    <tr>\n",
       "      <th>ACH-003587</th>\n",
       "      <td>0.021563</td>\n",
       "      <td>0.362643</td>\n",
       "      <td>0.038994</td>\n",
       "      <td>0.002566</td>\n",
       "      <td>0.021421</td>\n",
       "      <td>0.016746</td>\n",
       "      <td>0.009420</td>\n",
       "      <td>0.731013</td>\n",
       "      <td>0.133479</td>\n",
       "      <td>0.001093</td>\n",
       "      <td>...</td>\n",
       "      <td>0.447705</td>\n",
       "      <td>0.847069</td>\n",
       "      <td>0.068588</td>\n",
       "      <td>0.004573</td>\n",
       "      <td>0.069633</td>\n",
       "      <td>0.013845</td>\n",
       "      <td>0.392879</td>\n",
       "      <td>0.009821</td>\n",
       "      <td>0.161606</td>\n",
       "      <td>0.103400</td>\n",
       "    </tr>\n",
       "    <tr>\n",
       "      <th>ACH-003590</th>\n",
       "      <td>0.034954</td>\n",
       "      <td>0.012562</td>\n",
       "      <td>0.005199</td>\n",
       "      <td>0.001722</td>\n",
       "      <td>0.046626</td>\n",
       "      <td>0.022580</td>\n",
       "      <td>0.001442</td>\n",
       "      <td>0.539276</td>\n",
       "      <td>0.009765</td>\n",
       "      <td>0.001547</td>\n",
       "      <td>...</td>\n",
       "      <td>0.889409</td>\n",
       "      <td>0.884809</td>\n",
       "      <td>0.036250</td>\n",
       "      <td>0.001874</td>\n",
       "      <td>0.027362</td>\n",
       "      <td>0.008177</td>\n",
       "      <td>0.035596</td>\n",
       "      <td>0.007889</td>\n",
       "      <td>0.099651</td>\n",
       "      <td>0.218315</td>\n",
       "    </tr>\n",
       "    <tr>\n",
       "      <th>ACH-003665</th>\n",
       "      <td>0.024311</td>\n",
       "      <td>0.017769</td>\n",
       "      <td>0.021122</td>\n",
       "      <td>0.004539</td>\n",
       "      <td>0.047388</td>\n",
       "      <td>0.015022</td>\n",
       "      <td>0.005263</td>\n",
       "      <td>0.870296</td>\n",
       "      <td>0.015925</td>\n",
       "      <td>0.003271</td>\n",
       "      <td>...</td>\n",
       "      <td>0.584135</td>\n",
       "      <td>0.947390</td>\n",
       "      <td>0.070765</td>\n",
       "      <td>0.008284</td>\n",
       "      <td>0.008859</td>\n",
       "      <td>0.011641</td>\n",
       "      <td>0.105579</td>\n",
       "      <td>0.005657</td>\n",
       "      <td>0.030414</td>\n",
       "      <td>0.035822</td>\n",
       "    </tr>\n",
       "  </tbody>\n",
       "</table>\n",
       "<p>1373 rows × 17916 columns</p>\n",
       "</div>"
      ],
      "text/plain": [
       "            A1BG (1)  A1CF (29974)   A2M (2)  A2ML1 (144568)  \\\n",
       "ACH-000001  0.081472      0.019557  0.013884        0.100987   \n",
       "ACH-000004  0.030400      0.042046  0.047038        0.042626   \n",
       "ACH-000005  0.069625      0.014287  0.005318        0.010318   \n",
       "ACH-000007  0.026158      0.051310  0.005926        0.007157   \n",
       "ACH-000009  0.050087      0.124279  0.013026        0.015877   \n",
       "...              ...           ...       ...             ...   \n",
       "ACH-003578  0.111139      0.033585  0.050142        0.012760   \n",
       "ACH-003580  0.011859      0.003230  0.044699        0.009610   \n",
       "ACH-003587  0.021563      0.362643  0.038994        0.002566   \n",
       "ACH-003590  0.034954      0.012562  0.005199        0.001722   \n",
       "ACH-003665  0.024311      0.017769  0.021122        0.004539   \n",
       "\n",
       "            A3GALT2 (127550)  A4GALT (53947)  A4GNT (51146)  AAAS (8086)  \\\n",
       "ACH-000001          0.022365        0.003256       0.043409     0.039893   \n",
       "ACH-000004          0.016766        0.076369       0.001879     0.032660   \n",
       "ACH-000005          0.048139        0.119415       0.006585     0.026757   \n",
       "ACH-000007          0.009359        0.016853       0.018201     0.066871   \n",
       "ACH-000009          0.008146        0.086953       0.024034     0.083313   \n",
       "...                      ...             ...            ...          ...   \n",
       "ACH-003578          0.022701        0.039675       0.006000     0.071651   \n",
       "ACH-003580          0.005984        0.020530       0.006781     0.144694   \n",
       "ACH-003587          0.021421        0.016746       0.009420     0.731013   \n",
       "ACH-003590          0.046626        0.022580       0.001442     0.539276   \n",
       "ACH-003665          0.047388        0.015022       0.005263     0.870296   \n",
       "\n",
       "            AACS (65985)  AADAC (13)  ...  ZWILCH (55055)  ZWINT (11130)  \\\n",
       "ACH-000001      0.004096    0.022905  ...        0.073907       0.011079   \n",
       "ACH-000004      0.002555    0.005717  ...        0.197319       0.421886   \n",
       "ACH-000005      0.051152    0.016791  ...        0.187949       0.267061   \n",
       "ACH-000007      0.069209    0.002658  ...        0.304459       0.299673   \n",
       "ACH-000009      0.017457    0.016134  ...        0.418924       0.284402   \n",
       "...                  ...         ...  ...             ...            ...   \n",
       "ACH-003578      0.040592    0.015888  ...        0.390708       0.640540   \n",
       "ACH-003580      0.013001    0.001769  ...        0.277001       0.824403   \n",
       "ACH-003587      0.133479    0.001093  ...        0.447705       0.847069   \n",
       "ACH-003590      0.009765    0.001547  ...        0.889409       0.884809   \n",
       "ACH-003665      0.015925    0.003271  ...        0.584135       0.947390   \n",
       "\n",
       "            ZXDA (7789)  ZXDB (158586)  ZXDC (79364)  ZYG11A (440590)  \\\n",
       "ACH-000001     0.005414       0.002309      0.004529         0.168268   \n",
       "ACH-000004     0.002982       0.007350      0.008094         0.009782   \n",
       "ACH-000005     0.035086       0.027052      0.018857         0.067349   \n",
       "ACH-000007     0.022158       0.001231      0.008503         0.024572   \n",
       "ACH-000009     0.045003       0.001707      0.064220         0.068912   \n",
       "...                 ...            ...           ...              ...   \n",
       "ACH-003578     0.027122       0.004307      0.111400         0.035463   \n",
       "ACH-003580     0.014370       0.001882      0.102872         0.121796   \n",
       "ACH-003587     0.068588       0.004573      0.069633         0.013845   \n",
       "ACH-003590     0.036250       0.001874      0.027362         0.008177   \n",
       "ACH-003665     0.070765       0.008284      0.008859         0.011641   \n",
       "\n",
       "            ZYG11B (79699)  ZYX (7791)  ZZEF1 (23140)  ZZZ3 (26009)  \n",
       "ACH-000001        0.014377    0.011050       0.005369      0.402964  \n",
       "ACH-000004        0.264322    0.007282       0.001484      0.035261  \n",
       "ACH-000005        0.029373    0.025776       0.012010      0.037007  \n",
       "ACH-000007        0.363707    0.011464       0.181764      0.310430  \n",
       "ACH-000009        0.673399    0.011075       0.035978      0.306134  \n",
       "...                    ...         ...            ...           ...  \n",
       "ACH-003578        0.081754    0.031580       0.087841      0.449379  \n",
       "ACH-003580        0.240057    0.006161       0.086230      0.285028  \n",
       "ACH-003587        0.392879    0.009821       0.161606      0.103400  \n",
       "ACH-003590        0.035596    0.007889       0.099651      0.218315  \n",
       "ACH-003665        0.105579    0.005657       0.030414      0.035822  \n",
       "\n",
       "[1373 rows x 17916 columns]"
      ]
     },
     "execution_count": 5,
     "metadata": {},
     "output_type": "execute_result"
    }
   ],
   "source": [
    "crispr_dependencies"
   ]
  },
  {
   "cell_type": "markdown",
   "metadata": {},
   "source": [
    "## Getting transcription factors list"
   ]
  },
  {
   "cell_type": "code",
   "execution_count": 6,
   "metadata": {},
   "outputs": [],
   "source": [
    "tfs = pd.read_csv(\"data/tf_list.csv\")"
   ]
  },
  {
   "cell_type": "code",
   "execution_count": 7,
   "metadata": {},
   "outputs": [
    {
     "data": {
      "text/html": [
       "<div>\n",
       "<style scoped>\n",
       "    .dataframe tbody tr th:only-of-type {\n",
       "        vertical-align: middle;\n",
       "    }\n",
       "\n",
       "    .dataframe tbody tr th {\n",
       "        vertical-align: top;\n",
       "    }\n",
       "\n",
       "    .dataframe thead th {\n",
       "        text-align: right;\n",
       "    }\n",
       "</style>\n",
       "<table border=\"1\" class=\"dataframe\">\n",
       "  <thead>\n",
       "    <tr style=\"text-align: right;\">\n",
       "      <th></th>\n",
       "      <th>hugo_symbol</th>\n",
       "    </tr>\n",
       "  </thead>\n",
       "  <tbody>\n",
       "    <tr>\n",
       "      <th>0</th>\n",
       "      <td>TFAP2A</td>\n",
       "    </tr>\n",
       "    <tr>\n",
       "      <th>1</th>\n",
       "      <td>TFAP2B</td>\n",
       "    </tr>\n",
       "    <tr>\n",
       "      <th>2</th>\n",
       "      <td>TFAP2C</td>\n",
       "    </tr>\n",
       "    <tr>\n",
       "      <th>3</th>\n",
       "      <td>TFAP2D</td>\n",
       "    </tr>\n",
       "    <tr>\n",
       "      <th>4</th>\n",
       "      <td>TFAP2E</td>\n",
       "    </tr>\n",
       "  </tbody>\n",
       "</table>\n",
       "</div>"
      ],
      "text/plain": [
       "  hugo_symbol\n",
       "0      TFAP2A\n",
       "1      TFAP2B\n",
       "2      TFAP2C\n",
       "3      TFAP2D\n",
       "4      TFAP2E"
      ]
     },
     "execution_count": 7,
     "metadata": {},
     "output_type": "execute_result"
    }
   ],
   "source": [
    "tfs.head()"
   ]
  },
  {
   "cell_type": "code",
   "execution_count": 13,
   "metadata": {},
   "outputs": [
    {
     "data": {
      "text/plain": [
       "(1639, 1)"
      ]
     },
     "execution_count": 13,
     "metadata": {},
     "output_type": "execute_result"
    }
   ],
   "source": [
    "tfs.shape"
   ]
  },
  {
   "cell_type": "code",
   "execution_count": 9,
   "metadata": {},
   "outputs": [],
   "source": [
    "tfs_reviewed = pd.read_excel(\"data/TF_names.xlsx\")"
   ]
  },
  {
   "cell_type": "code",
   "execution_count": 10,
   "metadata": {},
   "outputs": [
    {
     "data": {
      "text/html": [
       "<div>\n",
       "<style scoped>\n",
       "    .dataframe tbody tr th:only-of-type {\n",
       "        vertical-align: middle;\n",
       "    }\n",
       "\n",
       "    .dataframe tbody tr th {\n",
       "        vertical-align: top;\n",
       "    }\n",
       "\n",
       "    .dataframe thead th {\n",
       "        text-align: right;\n",
       "    }\n",
       "</style>\n",
       "<table border=\"1\" class=\"dataframe\">\n",
       "  <thead>\n",
       "    <tr style=\"text-align: right;\">\n",
       "      <th></th>\n",
       "      <th>Unnamed: 0</th>\n",
       "      <th>Original names</th>\n",
       "      <th>Unnamed: 2</th>\n",
       "      <th>new names</th>\n",
       "    </tr>\n",
       "  </thead>\n",
       "  <tbody>\n",
       "    <tr>\n",
       "      <th>0</th>\n",
       "      <td>NaN</td>\n",
       "      <td>C11orf95</td>\n",
       "      <td>NaN</td>\n",
       "      <td>ZFTA</td>\n",
       "    </tr>\n",
       "    <tr>\n",
       "      <th>1</th>\n",
       "      <td>NaN</td>\n",
       "      <td>ZBED9</td>\n",
       "      <td>NaN</td>\n",
       "      <td>ZBED9</td>\n",
       "    </tr>\n",
       "    <tr>\n",
       "      <th>2</th>\n",
       "      <td>NaN</td>\n",
       "      <td>ARNTL</td>\n",
       "      <td>NaN</td>\n",
       "      <td>BMAL1</td>\n",
       "    </tr>\n",
       "    <tr>\n",
       "      <th>3</th>\n",
       "      <td>NaN</td>\n",
       "      <td>ARNTL2</td>\n",
       "      <td>NaN</td>\n",
       "      <td>BMAL2</td>\n",
       "    </tr>\n",
       "    <tr>\n",
       "      <th>4</th>\n",
       "      <td>NaN</td>\n",
       "      <td>AC023509.3</td>\n",
       "      <td>NaN</td>\n",
       "      <td>NaN</td>\n",
       "    </tr>\n",
       "  </tbody>\n",
       "</table>\n",
       "</div>"
      ],
      "text/plain": [
       "   Unnamed: 0 Original names  Unnamed: 2 new names\n",
       "0         NaN       C11orf95         NaN      ZFTA\n",
       "1         NaN          ZBED9         NaN     ZBED9\n",
       "2         NaN          ARNTL         NaN     BMAL1\n",
       "3         NaN         ARNTL2         NaN     BMAL2\n",
       "4         NaN     AC023509.3         NaN       NaN"
      ]
     },
     "execution_count": 10,
     "metadata": {},
     "output_type": "execute_result"
    }
   ],
   "source": [
    "tfs_reviewed.head()"
   ]
  },
  {
   "cell_type": "code",
   "execution_count": 12,
   "metadata": {},
   "outputs": [],
   "source": [
    "tfs_reviewed = tfs_reviewed[[\"Original names\", \"new names\"]]"
   ]
  },
  {
   "cell_type": "code",
   "execution_count": 14,
   "metadata": {},
   "outputs": [
    {
     "data": {
      "text/plain": [
       "(15, 2)"
      ]
     },
     "execution_count": 14,
     "metadata": {},
     "output_type": "execute_result"
    }
   ],
   "source": [
    "tfs_reviewed.shape"
   ]
  },
  {
   "cell_type": "code",
   "execution_count": 17,
   "metadata": {},
   "outputs": [],
   "source": [
    "tfs = tfs[~tfs[\"hugo_symbol\"].isin(tfs_reviewed[\"Original names\"].values)]"
   ]
  },
  {
   "cell_type": "code",
   "execution_count": 22,
   "metadata": {},
   "outputs": [],
   "source": [
    "tfs[\"hugo_symbol\"] = pd.concat([tfs[\"hugo_symbol\"], tfs_reviewed[\"new names\"]], ignore_index=True)"
   ]
  },
  {
   "cell_type": "code",
   "execution_count": 23,
   "metadata": {},
   "outputs": [
    {
     "data": {
      "text/plain": [
       "(1624, 1)"
      ]
     },
     "execution_count": 23,
     "metadata": {},
     "output_type": "execute_result"
    }
   ],
   "source": [
    "tfs.shape\n"
   ]
  },
  {
   "cell_type": "markdown",
   "metadata": {},
   "source": [
    "## Filtering matrix"
   ]
  },
  {
   "cell_type": "code",
   "execution_count": 25,
   "metadata": {},
   "outputs": [],
   "source": [
    "import re"
   ]
  },
  {
   "cell_type": "code",
   "execution_count": 24,
   "metadata": {},
   "outputs": [
    {
     "data": {
      "text/plain": [
       "Index(['A1BG (1)', 'A1CF (29974)', 'A2M (2)', 'A2ML1 (144568)',\n",
       "       'A3GALT2 (127550)', 'A4GALT (53947)', 'A4GNT (51146)', 'AAAS (8086)',\n",
       "       'AACS (65985)', 'AADAC (13)',\n",
       "       ...\n",
       "       'ZWILCH (55055)', 'ZWINT (11130)', 'ZXDA (7789)', 'ZXDB (158586)',\n",
       "       'ZXDC (79364)', 'ZYG11A (440590)', 'ZYG11B (79699)', 'ZYX (7791)',\n",
       "       'ZZEF1 (23140)', 'ZZZ3 (26009)'],\n",
       "      dtype='object', length=17916)"
      ]
     },
     "execution_count": 24,
     "metadata": {},
     "output_type": "execute_result"
    }
   ],
   "source": [
    "crispr_dependencies.columns"
   ]
  },
  {
   "cell_type": "code",
   "execution_count": 37,
   "metadata": {},
   "outputs": [],
   "source": [
    "crispr_dependencies.columns = [re.sub(r\"\\(\\d+\\)\", \"\", c).strip() for c in crispr_dependencies.columns]"
   ]
  },
  {
   "cell_type": "code",
   "execution_count": 39,
   "metadata": {},
   "outputs": [],
   "source": [
    "tfs_found = [tf for tf in tfs[\"hugo_symbol\"] if tf in crispr_dependencies.columns]"
   ]
  },
  {
   "cell_type": "code",
   "execution_count": 40,
   "metadata": {},
   "outputs": [
    {
     "data": {
      "text/plain": [
       "1543"
      ]
     },
     "execution_count": 40,
     "metadata": {},
     "output_type": "execute_result"
    }
   ],
   "source": [
    "len(tfs_found)"
   ]
  },
  {
   "cell_type": "code",
   "execution_count": 42,
   "metadata": {},
   "outputs": [],
   "source": [
    "crispr_dependencies = crispr_dependencies.loc[:, tfs_found]"
   ]
  },
  {
   "cell_type": "code",
   "execution_count": 43,
   "metadata": {},
   "outputs": [],
   "source": [
    "crispr_dependencies.to_pickle(\"pydata/tfs_dependencies.pkl\")"
   ]
  }
 ],
 "metadata": {
  "kernelspec": {
   "display_name": "bootcamp",
   "language": "python",
   "name": "python3"
  },
  "language_info": {
   "codemirror_mode": {
    "name": "ipython",
    "version": 3
   },
   "file_extension": ".py",
   "mimetype": "text/x-python",
   "name": "python",
   "nbconvert_exporter": "python",
   "pygments_lexer": "ipython3",
   "version": "3.13.2"
  }
 },
 "nbformat": 4,
 "nbformat_minor": 2
}
