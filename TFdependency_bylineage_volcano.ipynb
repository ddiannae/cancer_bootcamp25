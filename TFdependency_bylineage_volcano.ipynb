{
 "cells": [
  {
   "cell_type": "code",
   "execution_count": 1,
   "metadata": {},
   "outputs": [],
   "source": [
    "import pandas as pd\n",
    "import seaborn as sns\n",
    "import matplotlib.pyplot as plt\n",
    "from statsmodels.stats.multitest import fdrcorrection\n",
    "import numpy as np\n",
    "import colorcet as cc"
   ]
  },
  {
   "cell_type": "code",
   "execution_count": 2,
   "metadata": {},
   "outputs": [],
   "source": [
    "tf_e3_corrs = pd.read_pickle(\"pydata/tf_dependency_e3ls_expr_correlation_bylineage_dropna.pkl\")"
   ]
  },
  {
   "cell_type": "code",
   "execution_count": 3,
   "metadata": {},
   "outputs": [
    {
     "data": {
      "text/html": [
       "<div>\n",
       "<style scoped>\n",
       "    .dataframe tbody tr th:only-of-type {\n",
       "        vertical-align: middle;\n",
       "    }\n",
       "\n",
       "    .dataframe tbody tr th {\n",
       "        vertical-align: top;\n",
       "    }\n",
       "\n",
       "    .dataframe thead th {\n",
       "        text-align: right;\n",
       "    }\n",
       "</style>\n",
       "<table border=\"1\" class=\"dataframe\">\n",
       "  <thead>\n",
       "    <tr style=\"text-align: right;\">\n",
       "      <th></th>\n",
       "      <th>lineage</th>\n",
       "      <th>TF</th>\n",
       "      <th>E3_ligase</th>\n",
       "      <th>p-val</th>\n",
       "      <th>corr</th>\n",
       "    </tr>\n",
       "  </thead>\n",
       "  <tbody>\n",
       "    <tr>\n",
       "      <th>0</th>\n",
       "      <td>Ampulla of Vater</td>\n",
       "      <td>TFAP2A</td>\n",
       "      <td>KDM2A</td>\n",
       "      <td>0.709839</td>\n",
       "      <td>-0.157329</td>\n",
       "    </tr>\n",
       "    <tr>\n",
       "      <th>1</th>\n",
       "      <td>Ampulla of Vater</td>\n",
       "      <td>TFAP2B</td>\n",
       "      <td>KDM2A</td>\n",
       "      <td>0.588720</td>\n",
       "      <td>0.227030</td>\n",
       "    </tr>\n",
       "    <tr>\n",
       "      <th>2</th>\n",
       "      <td>Ampulla of Vater</td>\n",
       "      <td>TFAP2C</td>\n",
       "      <td>KDM2A</td>\n",
       "      <td>0.195091</td>\n",
       "      <td>-0.511497</td>\n",
       "    </tr>\n",
       "    <tr>\n",
       "      <th>3</th>\n",
       "      <td>Ampulla of Vater</td>\n",
       "      <td>TFAP2D</td>\n",
       "      <td>KDM2A</td>\n",
       "      <td>0.350621</td>\n",
       "      <td>0.381823</td>\n",
       "    </tr>\n",
       "    <tr>\n",
       "      <th>4</th>\n",
       "      <td>Ampulla of Vater</td>\n",
       "      <td>TFAP2E</td>\n",
       "      <td>KDM2A</td>\n",
       "      <td>0.270403</td>\n",
       "      <td>-0.444031</td>\n",
       "    </tr>\n",
       "  </tbody>\n",
       "</table>\n",
       "</div>"
      ],
      "text/plain": [
       "            lineage      TF E3_ligase     p-val      corr\n",
       "0  Ampulla of Vater  TFAP2A     KDM2A  0.709839 -0.157329\n",
       "1  Ampulla of Vater  TFAP2B     KDM2A  0.588720  0.227030\n",
       "2  Ampulla of Vater  TFAP2C     KDM2A  0.195091 -0.511497\n",
       "3  Ampulla of Vater  TFAP2D     KDM2A  0.350621  0.381823\n",
       "4  Ampulla of Vater  TFAP2E     KDM2A  0.270403 -0.444031"
      ]
     },
     "execution_count": 3,
     "metadata": {},
     "output_type": "execute_result"
    }
   ],
   "source": [
    "tf_e3_corrs.head()"
   ]
  },
  {
   "cell_type": "code",
   "execution_count": 4,
   "metadata": {},
   "outputs": [],
   "source": [
    "tf_lin_filter = pd.read_pickle(\"pydata/tf_list_by_lineage.pkl\")"
   ]
  },
  {
   "cell_type": "code",
   "execution_count": 5,
   "metadata": {},
   "outputs": [
    {
     "data": {
      "text/html": [
       "<div>\n",
       "<style scoped>\n",
       "    .dataframe tbody tr th:only-of-type {\n",
       "        vertical-align: middle;\n",
       "    }\n",
       "\n",
       "    .dataframe tbody tr th {\n",
       "        vertical-align: top;\n",
       "    }\n",
       "\n",
       "    .dataframe thead th {\n",
       "        text-align: right;\n",
       "    }\n",
       "</style>\n",
       "<table border=\"1\" class=\"dataframe\">\n",
       "  <thead>\n",
       "    <tr style=\"text-align: right;\">\n",
       "      <th></th>\n",
       "      <th>OncotreeLineage</th>\n",
       "      <th>TF</th>\n",
       "      <th>dependency</th>\n",
       "      <th>effect</th>\n",
       "      <th>n_models</th>\n",
       "    </tr>\n",
       "  </thead>\n",
       "  <tbody>\n",
       "    <tr>\n",
       "      <th>2974</th>\n",
       "      <td>Biliary Tract</td>\n",
       "      <td>ADNP</td>\n",
       "      <td>0.262168</td>\n",
       "      <td>-0.261788</td>\n",
       "      <td>36</td>\n",
       "    </tr>\n",
       "    <tr>\n",
       "      <th>2975</th>\n",
       "      <td>Biliary Tract</td>\n",
       "      <td>ADNP2</td>\n",
       "      <td>0.051071</td>\n",
       "      <td>-0.039606</td>\n",
       "      <td>36</td>\n",
       "    </tr>\n",
       "    <tr>\n",
       "      <th>2976</th>\n",
       "      <td>Biliary Tract</td>\n",
       "      <td>AEBP1</td>\n",
       "      <td>0.066771</td>\n",
       "      <td>-0.084119</td>\n",
       "      <td>36</td>\n",
       "    </tr>\n",
       "    <tr>\n",
       "      <th>2978</th>\n",
       "      <td>Biliary Tract</td>\n",
       "      <td>AHDC1</td>\n",
       "      <td>0.108234</td>\n",
       "      <td>-0.125744</td>\n",
       "      <td>36</td>\n",
       "    </tr>\n",
       "    <tr>\n",
       "      <th>2981</th>\n",
       "      <td>Biliary Tract</td>\n",
       "      <td>AKAP8</td>\n",
       "      <td>0.060307</td>\n",
       "      <td>-0.079361</td>\n",
       "      <td>36</td>\n",
       "    </tr>\n",
       "  </tbody>\n",
       "</table>\n",
       "</div>"
      ],
      "text/plain": [
       "     OncotreeLineage     TF  dependency    effect  n_models\n",
       "2974   Biliary Tract   ADNP    0.262168 -0.261788        36\n",
       "2975   Biliary Tract  ADNP2    0.051071 -0.039606        36\n",
       "2976   Biliary Tract  AEBP1    0.066771 -0.084119        36\n",
       "2978   Biliary Tract  AHDC1    0.108234 -0.125744        36\n",
       "2981   Biliary Tract  AKAP8    0.060307 -0.079361        36"
      ]
     },
     "execution_count": 5,
     "metadata": {},
     "output_type": "execute_result"
    }
   ],
   "source": [
    "tf_lin_filter.head()"
   ]
  },
  {
   "cell_type": "code",
   "execution_count": 6,
   "metadata": {},
   "outputs": [
    {
     "data": {
      "text/plain": [
       "(20203650, 5)"
      ]
     },
     "execution_count": 6,
     "metadata": {},
     "output_type": "execute_result"
    }
   ],
   "source": [
    "tf_e3_corrs.shape"
   ]
  },
  {
   "cell_type": "code",
   "execution_count": 7,
   "metadata": {},
   "outputs": [],
   "source": [
    "tf_e3_corrs = tf_e3_corrs[(tf_e3_corrs[\"TF\"].isin(tf_lin_filter[\"TF\"])) & (tf_e3_corrs[\"lineage\"].isin(tf_lin_filter[\"OncotreeLineage\"]))]"
   ]
  },
  {
   "cell_type": "code",
   "execution_count": 8,
   "metadata": {},
   "outputs": [],
   "source": [
    "lineages = tf_e3_corrs[\"lineage\"].unique()\n",
    "tf_e3_corrs_fdrs = []\n",
    "for lineage in lineages:\n",
    "    lin_cors = tf_e3_corrs.loc[tf_e3_corrs[\"lineage\"] == lineage].copy()\n",
    "    lin_cors[\"fdr\"] = fdrcorrection(lin_cors[\"p-val\"].values)[1]\n",
    "    tf_e3_corrs_fdrs.append(lin_cors)"
   ]
  },
  {
   "cell_type": "code",
   "execution_count": 9,
   "metadata": {},
   "outputs": [],
   "source": [
    "tf_e3_corrs_fdrs = pd.concat(tf_e3_corrs_fdrs)"
   ]
  },
  {
   "cell_type": "code",
   "execution_count": 10,
   "metadata": {},
   "outputs": [
    {
     "data": {
      "text/html": [
       "<div>\n",
       "<style scoped>\n",
       "    .dataframe tbody tr th:only-of-type {\n",
       "        vertical-align: middle;\n",
       "    }\n",
       "\n",
       "    .dataframe tbody tr th {\n",
       "        vertical-align: top;\n",
       "    }\n",
       "\n",
       "    .dataframe thead th {\n",
       "        text-align: right;\n",
       "    }\n",
       "</style>\n",
       "<table border=\"1\" class=\"dataframe\">\n",
       "  <thead>\n",
       "    <tr style=\"text-align: right;\">\n",
       "      <th></th>\n",
       "      <th>lineage</th>\n",
       "      <th>TF</th>\n",
       "      <th>E3_ligase</th>\n",
       "      <th>p-val</th>\n",
       "      <th>corr</th>\n",
       "      <th>fdr</th>\n",
       "    </tr>\n",
       "  </thead>\n",
       "  <tbody>\n",
       "    <tr>\n",
       "      <th>0</th>\n",
       "      <td>Biliary Tract</td>\n",
       "      <td>TFAP2A</td>\n",
       "      <td>KDM2A</td>\n",
       "      <td>0.828814</td>\n",
       "      <td>-0.037342</td>\n",
       "      <td>0.993790</td>\n",
       "    </tr>\n",
       "    <tr>\n",
       "      <th>1</th>\n",
       "      <td>Biliary Tract</td>\n",
       "      <td>TFAP2B</td>\n",
       "      <td>KDM2A</td>\n",
       "      <td>0.200057</td>\n",
       "      <td>-0.218687</td>\n",
       "      <td>0.928731</td>\n",
       "    </tr>\n",
       "    <tr>\n",
       "      <th>2</th>\n",
       "      <td>Biliary Tract</td>\n",
       "      <td>TFAP2C</td>\n",
       "      <td>KDM2A</td>\n",
       "      <td>0.082667</td>\n",
       "      <td>0.293189</td>\n",
       "      <td>0.873989</td>\n",
       "    </tr>\n",
       "    <tr>\n",
       "      <th>3</th>\n",
       "      <td>Biliary Tract</td>\n",
       "      <td>TFAP2D</td>\n",
       "      <td>KDM2A</td>\n",
       "      <td>0.165586</td>\n",
       "      <td>0.236139</td>\n",
       "      <td>0.919474</td>\n",
       "    </tr>\n",
       "    <tr>\n",
       "      <th>4</th>\n",
       "      <td>Biliary Tract</td>\n",
       "      <td>TFAP2E</td>\n",
       "      <td>KDM2A</td>\n",
       "      <td>0.447490</td>\n",
       "      <td>0.130668</td>\n",
       "      <td>0.969818</td>\n",
       "    </tr>\n",
       "  </tbody>\n",
       "</table>\n",
       "</div>"
      ],
      "text/plain": [
       "         lineage      TF E3_ligase     p-val      corr       fdr\n",
       "0  Biliary Tract  TFAP2A     KDM2A  0.828814 -0.037342  0.993790\n",
       "1  Biliary Tract  TFAP2B     KDM2A  0.200057 -0.218687  0.928731\n",
       "2  Biliary Tract  TFAP2C     KDM2A  0.082667  0.293189  0.873989\n",
       "3  Biliary Tract  TFAP2D     KDM2A  0.165586  0.236139  0.919474\n",
       "4  Biliary Tract  TFAP2E     KDM2A  0.447490  0.130668  0.969818"
      ]
     },
     "execution_count": 10,
     "metadata": {},
     "output_type": "execute_result"
    }
   ],
   "source": [
    "tf_e3_corrs_fdrs.head()"
   ]
  },
  {
   "cell_type": "code",
   "execution_count": 11,
   "metadata": {},
   "outputs": [
    {
     "data": {
      "text/plain": [
       "array([1.        , 0.60205999])"
      ]
     },
     "execution_count": 11,
     "metadata": {},
     "output_type": "execute_result"
    }
   ],
   "source": [
    "np.log10([0.1, 0.25])*-1"
   ]
  },
  {
   "cell_type": "code",
   "execution_count": 12,
   "metadata": {},
   "outputs": [],
   "source": [
    "tf_e3_corrs_fdrs[\"log10q\"] = np.log10(tf_e3_corrs_fdrs[\"fdr\"])*-1"
   ]
  },
  {
   "cell_type": "code",
   "execution_count": 13,
   "metadata": {},
   "outputs": [],
   "source": [
    "tf_e3_corrs_fdrs.to_pickle(\"pydata/tf_dependency_e3ls_expr_correlation_bylineage_fdr.pkl\")"
   ]
  },
  {
   "cell_type": "code",
   "execution_count": 14,
   "metadata": {},
   "outputs": [
    {
     "data": {
      "text/plain": [
       "22"
      ]
     },
     "execution_count": 14,
     "metadata": {},
     "output_type": "execute_result"
    }
   ],
   "source": [
    "len(lineages)"
   ]
  },
  {
   "cell_type": "code",
   "execution_count": null,
   "metadata": {},
   "outputs": [],
   "source": []
  },
  {
   "cell_type": "code",
   "execution_count": 15,
   "metadata": {},
   "outputs": [],
   "source": [
    "# for lineage in lineages:\n",
    "#     sns.scatterplot(data=tf_e3_corrs_fdrs, x = \"corr\", y = \"log10q\", \n",
    "#                     hue = \"lineage\")\n",
    "#     plt.show()"
   ]
  }
 ],
 "metadata": {
  "kernelspec": {
   "display_name": "cpboot",
   "language": "python",
   "name": "python3"
  },
  "language_info": {
   "codemirror_mode": {
    "name": "ipython",
    "version": 3
   },
   "file_extension": ".py",
   "mimetype": "text/x-python",
   "name": "python",
   "nbconvert_exporter": "python",
   "pygments_lexer": "ipython3",
   "version": "3.13.2"
  }
 },
 "nbformat": 4,
 "nbformat_minor": 2
}
