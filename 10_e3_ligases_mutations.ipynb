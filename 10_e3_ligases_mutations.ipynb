{
 "cells": [
  {
   "cell_type": "code",
   "execution_count": 75,
   "metadata": {},
   "outputs": [],
   "source": [
    "import pandas as pd\n",
    "from taigapy import create_taiga_client_v3\n",
    "import re\n",
    "from comut import comut\n",
    "import matplotlib.pyplot as plt\n",
    "import numpy as np\n",
    "from scipy.stats import mannwhitneyu"
   ]
  },
  {
   "cell_type": "code",
   "execution_count": 2,
   "metadata": {},
   "outputs": [],
   "source": [
    "tc = create_taiga_client_v3()"
   ]
  },
  {
   "cell_type": "markdown",
   "metadata": {},
   "source": [
    "We tried using the `OmiicsSomaticMutationsMatrixDamaging` and the `OmicsSomaticMutations`  but we decided to annotate the maf with OncoKB to get all the annotated mutations."
   ]
  },
  {
   "cell_type": "code",
   "execution_count": 3,
   "metadata": {},
   "outputs": [],
   "source": [
    "e3_ligases = pd.read_excel(\"data/E3_ligase_list.xlsx\", skiprows=1)"
   ]
  },
  {
   "cell_type": "code",
   "execution_count": 4,
   "metadata": {},
   "outputs": [
    {
     "data": {
      "text/html": [
       "<div>\n",
       "<style scoped>\n",
       "    .dataframe tbody tr th:only-of-type {\n",
       "        vertical-align: middle;\n",
       "    }\n",
       "\n",
       "    .dataframe tbody tr th {\n",
       "        vertical-align: top;\n",
       "    }\n",
       "\n",
       "    .dataframe thead th {\n",
       "        text-align: right;\n",
       "    }\n",
       "</style>\n",
       "<table border=\"1\" class=\"dataframe\">\n",
       "  <thead>\n",
       "    <tr style=\"text-align: right;\">\n",
       "      <th></th>\n",
       "      <th>Symbol</th>\n",
       "      <th>HGNC</th>\n",
       "      <th>uniprot_ids</th>\n",
       "      <th>Confidence Score</th>\n",
       "      <th>Ge.et.al</th>\n",
       "      <th>UbiHub</th>\n",
       "      <th>UbiBrowser</th>\n",
       "    </tr>\n",
       "  </thead>\n",
       "  <tbody>\n",
       "    <tr>\n",
       "      <th>0</th>\n",
       "      <td>AHCTF1</td>\n",
       "      <td>HGNC:24618</td>\n",
       "      <td>Q8WYP5</td>\n",
       "      <td>1</td>\n",
       "      <td>Yes</td>\n",
       "      <td>No</td>\n",
       "      <td>No</td>\n",
       "    </tr>\n",
       "    <tr>\n",
       "      <th>1</th>\n",
       "      <td>ODAD2</td>\n",
       "      <td>HGNC:25583</td>\n",
       "      <td>Q5T2S8</td>\n",
       "      <td>1</td>\n",
       "      <td>Yes</td>\n",
       "      <td>No</td>\n",
       "      <td>No</td>\n",
       "    </tr>\n",
       "    <tr>\n",
       "      <th>2</th>\n",
       "      <td>BAZ1A</td>\n",
       "      <td>HGNC:960</td>\n",
       "      <td>Q9NRL2</td>\n",
       "      <td>1</td>\n",
       "      <td>Yes</td>\n",
       "      <td>No</td>\n",
       "      <td>No</td>\n",
       "    </tr>\n",
       "    <tr>\n",
       "      <th>3</th>\n",
       "      <td>BAZ1B</td>\n",
       "      <td>HGNC:961</td>\n",
       "      <td>Q9UIG0</td>\n",
       "      <td>1</td>\n",
       "      <td>Yes</td>\n",
       "      <td>No</td>\n",
       "      <td>No</td>\n",
       "    </tr>\n",
       "    <tr>\n",
       "      <th>4</th>\n",
       "      <td>BPTF</td>\n",
       "      <td>HGNC:3581</td>\n",
       "      <td>Q12830</td>\n",
       "      <td>1</td>\n",
       "      <td>Yes</td>\n",
       "      <td>No</td>\n",
       "      <td>No</td>\n",
       "    </tr>\n",
       "  </tbody>\n",
       "</table>\n",
       "</div>"
      ],
      "text/plain": [
       "   Symbol        HGNC uniprot_ids  Confidence Score Ge.et.al UbiHub UbiBrowser\n",
       "0  AHCTF1  HGNC:24618      Q8WYP5                 1      Yes     No         No\n",
       "1   ODAD2  HGNC:25583      Q5T2S8                 1      Yes     No         No\n",
       "2   BAZ1A    HGNC:960      Q9NRL2                 1      Yes     No         No\n",
       "3   BAZ1B    HGNC:961      Q9UIG0                 1      Yes     No         No\n",
       "4    BPTF   HGNC:3581      Q12830                 1      Yes     No         No"
      ]
     },
     "execution_count": 4,
     "metadata": {},
     "output_type": "execute_result"
    }
   ],
   "source": [
    "e3_ligases.head()"
   ]
  },
  {
   "cell_type": "code",
   "execution_count": 5,
   "metadata": {},
   "outputs": [],
   "source": [
    "e3_ligases = e3_ligases.loc[e3_ligases[\"Confidence Score\"] >= 3]"
   ]
  },
  {
   "cell_type": "code",
   "execution_count": 6,
   "metadata": {},
   "outputs": [],
   "source": [
    "e3_ligases = e3_ligases.iloc[1:, 0].str.strip().to_list()"
   ]
  },
  {
   "cell_type": "code",
   "execution_count": 7,
   "metadata": {},
   "outputs": [
    {
     "data": {
      "text/plain": [
       "490"
      ]
     },
     "execution_count": 7,
     "metadata": {},
     "output_type": "execute_result"
    }
   ],
   "source": [
    "len(e3_ligases)"
   ]
  },
  {
   "cell_type": "markdown",
   "metadata": {},
   "source": [
    "Downloaded directly from depmap because the Taiga2 api didn't work with the `raw` maf file"
   ]
  },
  {
   "cell_type": "code",
   "execution_count": 8,
   "metadata": {},
   "outputs": [],
   "source": [
    "som_muts_maf = pd.read_csv(\"pydata/internal-24q4_v116-omicssomaticmutationsmafprofile-maf\", sep=\"\\t\")"
   ]
  },
  {
   "cell_type": "code",
   "execution_count": 9,
   "metadata": {},
   "outputs": [
    {
     "data": {
      "text/html": [
       "<div>\n",
       "<style scoped>\n",
       "    .dataframe tbody tr th:only-of-type {\n",
       "        vertical-align: middle;\n",
       "    }\n",
       "\n",
       "    .dataframe tbody tr th {\n",
       "        vertical-align: top;\n",
       "    }\n",
       "\n",
       "    .dataframe thead th {\n",
       "        text-align: right;\n",
       "    }\n",
       "</style>\n",
       "<table border=\"1\" class=\"dataframe\">\n",
       "  <thead>\n",
       "    <tr style=\"text-align: right;\">\n",
       "      <th></th>\n",
       "      <th>Chromosome</th>\n",
       "      <th>Start_Position</th>\n",
       "      <th>End_Position</th>\n",
       "      <th>Variant_Type</th>\n",
       "      <th>Reference_Allele</th>\n",
       "      <th>Tumor_Seq_Allele1</th>\n",
       "      <th>Tumor_Seq_Allele2</th>\n",
       "      <th>Tumor_Sample_Barcode</th>\n",
       "      <th>Variant_Classification</th>\n",
       "      <th>Protein_Change</th>\n",
       "      <th>Hugo_Symbol</th>\n",
       "      <th>NCBI_Build</th>\n",
       "      <th>Strand</th>\n",
       "      <th>InFrame</th>\n",
       "    </tr>\n",
       "  </thead>\n",
       "  <tbody>\n",
       "    <tr>\n",
       "      <th>0</th>\n",
       "      <td>chr1</td>\n",
       "      <td>818203</td>\n",
       "      <td>818203</td>\n",
       "      <td>SNP</td>\n",
       "      <td>G</td>\n",
       "      <td>G</td>\n",
       "      <td>A</td>\n",
       "      <td>PR-t8SaQo</td>\n",
       "      <td>Splice_Site</td>\n",
       "      <td>NaN</td>\n",
       "      <td>FAM87B</td>\n",
       "      <td>GRCh38</td>\n",
       "      <td>+</td>\n",
       "      <td>False</td>\n",
       "    </tr>\n",
       "    <tr>\n",
       "      <th>1</th>\n",
       "      <td>chr1</td>\n",
       "      <td>851926</td>\n",
       "      <td>851926</td>\n",
       "      <td>SNP</td>\n",
       "      <td>G</td>\n",
       "      <td>G</td>\n",
       "      <td>A</td>\n",
       "      <td>PR-lhMBt6</td>\n",
       "      <td>Splice_Site</td>\n",
       "      <td>NaN</td>\n",
       "      <td>LINC01128</td>\n",
       "      <td>GRCh38</td>\n",
       "      <td>+</td>\n",
       "      <td>False</td>\n",
       "    </tr>\n",
       "    <tr>\n",
       "      <th>2</th>\n",
       "      <td>chr1</td>\n",
       "      <td>852112</td>\n",
       "      <td>852112</td>\n",
       "      <td>SNP</td>\n",
       "      <td>T</td>\n",
       "      <td>T</td>\n",
       "      <td>C</td>\n",
       "      <td>PR-v6so3W</td>\n",
       "      <td>Splice_Site</td>\n",
       "      <td>NaN</td>\n",
       "      <td>LINC01128</td>\n",
       "      <td>GRCh38</td>\n",
       "      <td>+</td>\n",
       "      <td>False</td>\n",
       "    </tr>\n",
       "    <tr>\n",
       "      <th>3</th>\n",
       "      <td>chr1</td>\n",
       "      <td>924510</td>\n",
       "      <td>924511</td>\n",
       "      <td>DNP</td>\n",
       "      <td>GC</td>\n",
       "      <td>GC</td>\n",
       "      <td>AA</td>\n",
       "      <td>PR-uKiczK</td>\n",
       "      <td>Missense_Mutation</td>\n",
       "      <td>p.A27K</td>\n",
       "      <td>SAMD11</td>\n",
       "      <td>GRCh38</td>\n",
       "      <td>+</td>\n",
       "      <td>False</td>\n",
       "    </tr>\n",
       "    <tr>\n",
       "      <th>4</th>\n",
       "      <td>chr1</td>\n",
       "      <td>924657</td>\n",
       "      <td>924657</td>\n",
       "      <td>SNP</td>\n",
       "      <td>C</td>\n",
       "      <td>C</td>\n",
       "      <td>G</td>\n",
       "      <td>PR-sxFiuq</td>\n",
       "      <td>Missense_Mutation</td>\n",
       "      <td>p.L76V</td>\n",
       "      <td>SAMD11</td>\n",
       "      <td>GRCh38</td>\n",
       "      <td>+</td>\n",
       "      <td>False</td>\n",
       "    </tr>\n",
       "  </tbody>\n",
       "</table>\n",
       "</div>"
      ],
      "text/plain": [
       "  Chromosome  Start_Position  End_Position Variant_Type Reference_Allele  \\\n",
       "0       chr1          818203        818203          SNP                G   \n",
       "1       chr1          851926        851926          SNP                G   \n",
       "2       chr1          852112        852112          SNP                T   \n",
       "3       chr1          924510        924511          DNP               GC   \n",
       "4       chr1          924657        924657          SNP                C   \n",
       "\n",
       "  Tumor_Seq_Allele1 Tumor_Seq_Allele2 Tumor_Sample_Barcode  \\\n",
       "0                 G                 A            PR-t8SaQo   \n",
       "1                 G                 A            PR-lhMBt6   \n",
       "2                 T                 C            PR-v6so3W   \n",
       "3                GC                AA            PR-uKiczK   \n",
       "4                 C                 G            PR-sxFiuq   \n",
       "\n",
       "  Variant_Classification Protein_Change Hugo_Symbol NCBI_Build Strand  InFrame  \n",
       "0            Splice_Site            NaN      FAM87B     GRCh38      +    False  \n",
       "1            Splice_Site            NaN   LINC01128     GRCh38      +    False  \n",
       "2            Splice_Site            NaN   LINC01128     GRCh38      +    False  \n",
       "3      Missense_Mutation         p.A27K      SAMD11     GRCh38      +    False  \n",
       "4      Missense_Mutation         p.L76V      SAMD11     GRCh38      +    False  "
      ]
     },
     "execution_count": 9,
     "metadata": {},
     "output_type": "execute_result"
    }
   ],
   "source": [
    "som_muts_maf.head()"
   ]
  },
  {
   "cell_type": "code",
   "execution_count": 10,
   "metadata": {},
   "outputs": [
    {
     "data": {
      "text/plain": [
       "Index(['Chromosome', 'Start_Position', 'End_Position', 'Variant_Type',\n",
       "       'Reference_Allele', 'Tumor_Seq_Allele1', 'Tumor_Seq_Allele2',\n",
       "       'Tumor_Sample_Barcode', 'Variant_Classification', 'Protein_Change',\n",
       "       'Hugo_Symbol', 'NCBI_Build', 'Strand', 'InFrame'],\n",
       "      dtype='object')"
      ]
     },
     "execution_count": 10,
     "metadata": {},
     "output_type": "execute_result"
    }
   ],
   "source": [
    "som_muts_maf.columns"
   ]
  },
  {
   "cell_type": "markdown",
   "metadata": {},
   "source": [
    "To filter by `ModelID` we have to use the Profiles data frame, because the maf file is annotated with the profiles"
   ]
  },
  {
   "cell_type": "code",
   "execution_count": 11,
   "metadata": {},
   "outputs": [],
   "source": [
    "profiles = tc.get(name='internal-24q4-8c04', version=101, file='OmicsProfiles')"
   ]
  },
  {
   "cell_type": "code",
   "execution_count": 12,
   "metadata": {},
   "outputs": [
    {
     "data": {
      "text/html": [
       "<div>\n",
       "<style scoped>\n",
       "    .dataframe tbody tr th:only-of-type {\n",
       "        vertical-align: middle;\n",
       "    }\n",
       "\n",
       "    .dataframe tbody tr th {\n",
       "        vertical-align: top;\n",
       "    }\n",
       "\n",
       "    .dataframe thead th {\n",
       "        text-align: right;\n",
       "    }\n",
       "</style>\n",
       "<table border=\"1\" class=\"dataframe\">\n",
       "  <thead>\n",
       "    <tr style=\"text-align: right;\">\n",
       "      <th></th>\n",
       "      <th>ProfileID</th>\n",
       "      <th>ModelCondition</th>\n",
       "      <th>ModelID</th>\n",
       "      <th>Datatype</th>\n",
       "      <th>WESKit</th>\n",
       "      <th>Product</th>\n",
       "      <th>Stranded</th>\n",
       "      <th>Source</th>\n",
       "      <th>SharedToDbgap</th>\n",
       "    </tr>\n",
       "  </thead>\n",
       "  <tbody>\n",
       "    <tr>\n",
       "      <th>0</th>\n",
       "      <td>PR-01r7OM</td>\n",
       "      <td>MC-000957-Yckn</td>\n",
       "      <td>ACH-000957</td>\n",
       "      <td>rna</td>\n",
       "      <td>None</td>\n",
       "      <td>None</td>\n",
       "      <td>False</td>\n",
       "      <td>BROAD</td>\n",
       "      <td>None</td>\n",
       "    </tr>\n",
       "    <tr>\n",
       "      <th>1</th>\n",
       "      <td>PR-02J1g6</td>\n",
       "      <td>MC-001150-wyma</td>\n",
       "      <td>ACH-001150</td>\n",
       "      <td>wgs</td>\n",
       "      <td>None</td>\n",
       "      <td>None</td>\n",
       "      <td>None</td>\n",
       "      <td>BROAD</td>\n",
       "      <td>None</td>\n",
       "    </tr>\n",
       "    <tr>\n",
       "      <th>2</th>\n",
       "      <td>PR-02XmLG</td>\n",
       "      <td>MC-002785-qo9e</td>\n",
       "      <td>ACH-002785</td>\n",
       "      <td>rna</td>\n",
       "      <td>None</td>\n",
       "      <td>None</td>\n",
       "      <td>True</td>\n",
       "      <td>BROAD</td>\n",
       "      <td>None</td>\n",
       "    </tr>\n",
       "    <tr>\n",
       "      <th>3</th>\n",
       "      <td>PR-032KRL</td>\n",
       "      <td>MC-002175-99up</td>\n",
       "      <td>ACH-002175</td>\n",
       "      <td>wgs</td>\n",
       "      <td>None</td>\n",
       "      <td>None</td>\n",
       "      <td>None</td>\n",
       "      <td>BROAD</td>\n",
       "      <td>None</td>\n",
       "    </tr>\n",
       "    <tr>\n",
       "      <th>4</th>\n",
       "      <td>PR-03qHWS</td>\n",
       "      <td>MC-000753-DxZw</td>\n",
       "      <td>ACH-000753</td>\n",
       "      <td>wgs</td>\n",
       "      <td>None</td>\n",
       "      <td>None</td>\n",
       "      <td>None</td>\n",
       "      <td>BROAD</td>\n",
       "      <td>None</td>\n",
       "    </tr>\n",
       "  </tbody>\n",
       "</table>\n",
       "</div>"
      ],
      "text/plain": [
       "   ProfileID  ModelCondition     ModelID Datatype WESKit Product Stranded  \\\n",
       "0  PR-01r7OM  MC-000957-Yckn  ACH-000957      rna   None    None    False   \n",
       "1  PR-02J1g6  MC-001150-wyma  ACH-001150      wgs   None    None     None   \n",
       "2  PR-02XmLG  MC-002785-qo9e  ACH-002785      rna   None    None     True   \n",
       "3  PR-032KRL  MC-002175-99up  ACH-002175      wgs   None    None     None   \n",
       "4  PR-03qHWS  MC-000753-DxZw  ACH-000753      wgs   None    None     None   \n",
       "\n",
       "  Source SharedToDbgap  \n",
       "0  BROAD          None  \n",
       "1  BROAD          None  \n",
       "2  BROAD          None  \n",
       "3  BROAD          None  \n",
       "4  BROAD          None  "
      ]
     },
     "execution_count": 12,
     "metadata": {},
     "output_type": "execute_result"
    }
   ],
   "source": [
    "profiles.head()"
   ]
  },
  {
   "cell_type": "markdown",
   "metadata": {},
   "source": [
    "Getting models id from the expression data"
   ]
  },
  {
   "cell_type": "code",
   "execution_count": 13,
   "metadata": {},
   "outputs": [],
   "source": [
    "models = pd.read_csv(\"pydata/E3_expr.csv\", usecols=[0])"
   ]
  },
  {
   "cell_type": "code",
   "execution_count": 14,
   "metadata": {},
   "outputs": [
    {
     "data": {
      "text/html": [
       "<div>\n",
       "<style scoped>\n",
       "    .dataframe tbody tr th:only-of-type {\n",
       "        vertical-align: middle;\n",
       "    }\n",
       "\n",
       "    .dataframe tbody tr th {\n",
       "        vertical-align: top;\n",
       "    }\n",
       "\n",
       "    .dataframe thead th {\n",
       "        text-align: right;\n",
       "    }\n",
       "</style>\n",
       "<table border=\"1\" class=\"dataframe\">\n",
       "  <thead>\n",
       "    <tr style=\"text-align: right;\">\n",
       "      <th></th>\n",
       "      <th>ModelID</th>\n",
       "    </tr>\n",
       "  </thead>\n",
       "  <tbody>\n",
       "    <tr>\n",
       "      <th>0</th>\n",
       "      <td>ACH-000873</td>\n",
       "    </tr>\n",
       "    <tr>\n",
       "      <th>1</th>\n",
       "      <td>ACH-000860</td>\n",
       "    </tr>\n",
       "    <tr>\n",
       "      <th>2</th>\n",
       "      <td>ACH-000439</td>\n",
       "    </tr>\n",
       "    <tr>\n",
       "      <th>3</th>\n",
       "      <td>ACH-000318</td>\n",
       "    </tr>\n",
       "    <tr>\n",
       "      <th>4</th>\n",
       "      <td>ACH-001142</td>\n",
       "    </tr>\n",
       "  </tbody>\n",
       "</table>\n",
       "</div>"
      ],
      "text/plain": [
       "      ModelID\n",
       "0  ACH-000873\n",
       "1  ACH-000860\n",
       "2  ACH-000439\n",
       "3  ACH-000318\n",
       "4  ACH-001142"
      ]
     },
     "execution_count": 14,
     "metadata": {},
     "output_type": "execute_result"
    }
   ],
   "source": [
    "models.head()"
   ]
  },
  {
   "cell_type": "code",
   "execution_count": 15,
   "metadata": {},
   "outputs": [
    {
     "data": {
      "text/plain": [
       "(5964, 9)"
      ]
     },
     "execution_count": 15,
     "metadata": {},
     "output_type": "execute_result"
    }
   ],
   "source": [
    "profiles.shape"
   ]
  },
  {
   "cell_type": "code",
   "execution_count": 16,
   "metadata": {},
   "outputs": [],
   "source": [
    "profiles = profiles.loc[profiles[\"ModelID\"].isin(models[\"ModelID\"].values)]"
   ]
  },
  {
   "cell_type": "code",
   "execution_count": 17,
   "metadata": {},
   "outputs": [
    {
     "data": {
      "text/plain": [
       "(5627, 9)"
      ]
     },
     "execution_count": 17,
     "metadata": {},
     "output_type": "execute_result"
    }
   ],
   "source": [
    "profiles.shape"
   ]
  },
  {
   "cell_type": "code",
   "execution_count": 18,
   "metadata": {},
   "outputs": [],
   "source": [
    "som_muts_maf = som_muts_maf.loc[(som_muts_maf[\"Hugo_Symbol\"].isin(e3_ligases)) & som_muts_maf[\"Tumor_Sample_Barcode\"].isin(profiles[\"ProfileID\"])]"
   ]
  },
  {
   "cell_type": "markdown",
   "metadata": {},
   "source": [
    "For OncoKB annotator"
   ]
  },
  {
   "cell_type": "code",
   "execution_count": 19,
   "metadata": {},
   "outputs": [],
   "source": [
    "# som_muts_maf.to_csv(\"pydata/E3ligases_mutations.maf\", sep=\"\\t\")"
   ]
  },
  {
   "cell_type": "markdown",
   "metadata": {},
   "source": [
    "After OncoKB annotator"
   ]
  },
  {
   "cell_type": "code",
   "execution_count": 20,
   "metadata": {},
   "outputs": [
    {
     "name": "stderr",
     "output_type": "stream",
     "text": [
      "/var/folders/_5/qbyf0kk5779gpj3nnpqbc7wr0000gn/T/ipykernel_12408/3460813069.py:1: DtypeWarning: Columns (21,22,23,25,28,29,31,33,37,39,40,41) have mixed types. Specify dtype option on import or set low_memory=False.\n",
      "  som_muts_maf_annot = pd.read_csv(\"pydata/E3ligases_mutations_oncoKBannotated.maf\", sep =\"\\t\")\n"
     ]
    }
   ],
   "source": [
    "som_muts_maf_annot = pd.read_csv(\"pydata/E3ligases_mutations_oncoKBannotated.maf\", sep =\"\\t\")"
   ]
  },
  {
   "cell_type": "code",
   "execution_count": 21,
   "metadata": {},
   "outputs": [
    {
     "data": {
      "text/html": [
       "<div>\n",
       "<style scoped>\n",
       "    .dataframe tbody tr th:only-of-type {\n",
       "        vertical-align: middle;\n",
       "    }\n",
       "\n",
       "    .dataframe tbody tr th {\n",
       "        vertical-align: top;\n",
       "    }\n",
       "\n",
       "    .dataframe thead th {\n",
       "        text-align: right;\n",
       "    }\n",
       "</style>\n",
       "<table border=\"1\" class=\"dataframe\">\n",
       "  <thead>\n",
       "    <tr style=\"text-align: right;\">\n",
       "      <th></th>\n",
       "      <th>Unnamed: 0</th>\n",
       "      <th>Chromosome</th>\n",
       "      <th>Start_Position</th>\n",
       "      <th>End_Position</th>\n",
       "      <th>Variant_Type</th>\n",
       "      <th>Reference_Allele</th>\n",
       "      <th>Tumor_Seq_Allele1</th>\n",
       "      <th>Tumor_Seq_Allele2</th>\n",
       "      <th>Tumor_Sample_Barcode</th>\n",
       "      <th>Variant_Classification</th>\n",
       "      <th>...</th>\n",
       "      <th>LEVEL_Dx1</th>\n",
       "      <th>LEVEL_Dx2</th>\n",
       "      <th>LEVEL_Dx3</th>\n",
       "      <th>HIGHEST_DX_LEVEL</th>\n",
       "      <th>DX_CITATIONS</th>\n",
       "      <th>LEVEL_Px1</th>\n",
       "      <th>LEVEL_Px2</th>\n",
       "      <th>LEVEL_Px3</th>\n",
       "      <th>HIGHEST_PX_LEVEL</th>\n",
       "      <th>PX_CITATIONS</th>\n",
       "    </tr>\n",
       "  </thead>\n",
       "  <tbody>\n",
       "    <tr>\n",
       "      <th>0</th>\n",
       "      <td>57</td>\n",
       "      <td>chr1</td>\n",
       "      <td>960730</td>\n",
       "      <td>960730</td>\n",
       "      <td>SNP</td>\n",
       "      <td>C</td>\n",
       "      <td>C</td>\n",
       "      <td>A</td>\n",
       "      <td>PR-GYB91T</td>\n",
       "      <td>Missense_Mutation</td>\n",
       "      <td>...</td>\n",
       "      <td>NaN</td>\n",
       "      <td>NaN</td>\n",
       "      <td>NaN</td>\n",
       "      <td>NaN</td>\n",
       "      <td>NaN</td>\n",
       "      <td>NaN</td>\n",
       "      <td>NaN</td>\n",
       "      <td>NaN</td>\n",
       "      <td>NaN</td>\n",
       "      <td>NaN</td>\n",
       "    </tr>\n",
       "    <tr>\n",
       "      <th>1</th>\n",
       "      <td>58</td>\n",
       "      <td>chr1</td>\n",
       "      <td>960766</td>\n",
       "      <td>960766</td>\n",
       "      <td>SNP</td>\n",
       "      <td>G</td>\n",
       "      <td>G</td>\n",
       "      <td>A</td>\n",
       "      <td>PR-voYF6y</td>\n",
       "      <td>Missense_Mutation</td>\n",
       "      <td>...</td>\n",
       "      <td>NaN</td>\n",
       "      <td>NaN</td>\n",
       "      <td>NaN</td>\n",
       "      <td>NaN</td>\n",
       "      <td>NaN</td>\n",
       "      <td>NaN</td>\n",
       "      <td>NaN</td>\n",
       "      <td>NaN</td>\n",
       "      <td>NaN</td>\n",
       "      <td>NaN</td>\n",
       "    </tr>\n",
       "    <tr>\n",
       "      <th>2</th>\n",
       "      <td>59</td>\n",
       "      <td>chr1</td>\n",
       "      <td>960779</td>\n",
       "      <td>960779</td>\n",
       "      <td>SNP</td>\n",
       "      <td>C</td>\n",
       "      <td>C</td>\n",
       "      <td>T</td>\n",
       "      <td>PR-EsLxqT</td>\n",
       "      <td>Missense_Mutation</td>\n",
       "      <td>...</td>\n",
       "      <td>NaN</td>\n",
       "      <td>NaN</td>\n",
       "      <td>NaN</td>\n",
       "      <td>NaN</td>\n",
       "      <td>NaN</td>\n",
       "      <td>NaN</td>\n",
       "      <td>NaN</td>\n",
       "      <td>NaN</td>\n",
       "      <td>NaN</td>\n",
       "      <td>NaN</td>\n",
       "    </tr>\n",
       "    <tr>\n",
       "      <th>3</th>\n",
       "      <td>60</td>\n",
       "      <td>chr1</td>\n",
       "      <td>961298</td>\n",
       "      <td>961298</td>\n",
       "      <td>SNP</td>\n",
       "      <td>A</td>\n",
       "      <td>A</td>\n",
       "      <td>G</td>\n",
       "      <td>PR-RWQgdj</td>\n",
       "      <td>Missense_Mutation</td>\n",
       "      <td>...</td>\n",
       "      <td>NaN</td>\n",
       "      <td>NaN</td>\n",
       "      <td>NaN</td>\n",
       "      <td>NaN</td>\n",
       "      <td>NaN</td>\n",
       "      <td>NaN</td>\n",
       "      <td>NaN</td>\n",
       "      <td>NaN</td>\n",
       "      <td>NaN</td>\n",
       "      <td>NaN</td>\n",
       "    </tr>\n",
       "    <tr>\n",
       "      <th>4</th>\n",
       "      <td>61</td>\n",
       "      <td>chr1</td>\n",
       "      <td>961327</td>\n",
       "      <td>961327</td>\n",
       "      <td>SNP</td>\n",
       "      <td>C</td>\n",
       "      <td>C</td>\n",
       "      <td>G</td>\n",
       "      <td>PR-rq0sPs</td>\n",
       "      <td>Missense_Mutation</td>\n",
       "      <td>...</td>\n",
       "      <td>NaN</td>\n",
       "      <td>NaN</td>\n",
       "      <td>NaN</td>\n",
       "      <td>NaN</td>\n",
       "      <td>NaN</td>\n",
       "      <td>NaN</td>\n",
       "      <td>NaN</td>\n",
       "      <td>NaN</td>\n",
       "      <td>NaN</td>\n",
       "      <td>NaN</td>\n",
       "    </tr>\n",
       "  </tbody>\n",
       "</table>\n",
       "<p>5 rows × 42 columns</p>\n",
       "</div>"
      ],
      "text/plain": [
       "   Unnamed: 0 Chromosome  Start_Position  End_Position Variant_Type  \\\n",
       "0          57       chr1          960730        960730          SNP   \n",
       "1          58       chr1          960766        960766          SNP   \n",
       "2          59       chr1          960779        960779          SNP   \n",
       "3          60       chr1          961298        961298          SNP   \n",
       "4          61       chr1          961327        961327          SNP   \n",
       "\n",
       "  Reference_Allele Tumor_Seq_Allele1 Tumor_Seq_Allele2 Tumor_Sample_Barcode  \\\n",
       "0                C                 C                 A            PR-GYB91T   \n",
       "1                G                 G                 A            PR-voYF6y   \n",
       "2                C                 C                 T            PR-EsLxqT   \n",
       "3                A                 A                 G            PR-RWQgdj   \n",
       "4                C                 C                 G            PR-rq0sPs   \n",
       "\n",
       "  Variant_Classification  ... LEVEL_Dx1 LEVEL_Dx2 LEVEL_Dx3 HIGHEST_DX_LEVEL  \\\n",
       "0      Missense_Mutation  ...       NaN       NaN       NaN              NaN   \n",
       "1      Missense_Mutation  ...       NaN       NaN       NaN              NaN   \n",
       "2      Missense_Mutation  ...       NaN       NaN       NaN              NaN   \n",
       "3      Missense_Mutation  ...       NaN       NaN       NaN              NaN   \n",
       "4      Missense_Mutation  ...       NaN       NaN       NaN              NaN   \n",
       "\n",
       "   DX_CITATIONS  LEVEL_Px1  LEVEL_Px2  LEVEL_Px3 HIGHEST_PX_LEVEL PX_CITATIONS  \n",
       "0           NaN        NaN        NaN        NaN              NaN          NaN  \n",
       "1           NaN        NaN        NaN        NaN              NaN          NaN  \n",
       "2           NaN        NaN        NaN        NaN              NaN          NaN  \n",
       "3           NaN        NaN        NaN        NaN              NaN          NaN  \n",
       "4           NaN        NaN        NaN        NaN              NaN          NaN  \n",
       "\n",
       "[5 rows x 42 columns]"
      ]
     },
     "execution_count": 21,
     "metadata": {},
     "output_type": "execute_result"
    }
   ],
   "source": [
    "som_muts_maf_annot.head()"
   ]
  },
  {
   "cell_type": "code",
   "execution_count": 22,
   "metadata": {},
   "outputs": [],
   "source": [
    "som_muts_maf_annot = som_muts_maf_annot.loc[som_muts_maf_annot[\"Hugo_Symbol\"].isin(e3_ligases)]"
   ]
  },
  {
   "cell_type": "code",
   "execution_count": 23,
   "metadata": {},
   "outputs": [
    {
     "data": {
      "text/plain": [
       "ONCOGENIC\n",
       "Unknown             29908\n",
       "Likely Oncogenic      798\n",
       "Oncogenic              75\n",
       "Inconclusive           42\n",
       "Likely Neutral          2\n",
       "Name: count, dtype: int64"
      ]
     },
     "execution_count": 23,
     "metadata": {},
     "output_type": "execute_result"
    }
   ],
   "source": [
    "som_muts_maf_annot[\"ONCOGENIC\"].value_counts()"
   ]
  },
  {
   "cell_type": "code",
   "execution_count": 24,
   "metadata": {},
   "outputs": [
    {
     "data": {
      "text/plain": [
       "MUTATION_EFFECT\n",
       "Unknown                    29930\n",
       "Likely Loss-of-function      738\n",
       "Loss-of-function             113\n",
       "Inconclusive                  42\n",
       "Likely Neutral                 2\n",
       "Name: count, dtype: int64"
      ]
     },
     "execution_count": 24,
     "metadata": {},
     "output_type": "execute_result"
    }
   ],
   "source": [
    "som_muts_maf_annot[\"MUTATION_EFFECT\"].value_counts()"
   ]
  },
  {
   "cell_type": "code",
   "execution_count": 25,
   "metadata": {},
   "outputs": [],
   "source": [
    "som_muts_maf_annot = som_muts_maf_annot.loc[(som_muts_maf_annot[\"MUTATION_EFFECT\"] != \"Unknown\") & \n",
    "                                            (som_muts_maf_annot[\"MUTATION_EFFECT\"] != \"Likely Neutral\") &\n",
    "                                            (som_muts_maf_annot[\"MUTATION_EFFECT\"] != \"Inconclusive\")]"
   ]
  },
  {
   "cell_type": "code",
   "execution_count": 26,
   "metadata": {},
   "outputs": [
    {
     "data": {
      "text/plain": [
       "(851, 42)"
      ]
     },
     "execution_count": 26,
     "metadata": {},
     "output_type": "execute_result"
    }
   ],
   "source": [
    "som_muts_maf_annot.shape"
   ]
  },
  {
   "cell_type": "code",
   "execution_count": 27,
   "metadata": {},
   "outputs": [],
   "source": [
    "som_muts_maf_annot[\"MUTATION_EFFECT\"] = som_muts_maf_annot[\"MUTATION_EFFECT\"].apply(lambda mut: re.sub(\"Likely \", \"\", mut))"
   ]
  },
  {
   "cell_type": "code",
   "execution_count": 28,
   "metadata": {},
   "outputs": [
    {
     "data": {
      "text/plain": [
       "MUTATION_EFFECT\n",
       "Loss-of-function    851\n",
       "Name: count, dtype: int64"
      ]
     },
     "execution_count": 28,
     "metadata": {},
     "output_type": "execute_result"
    }
   ],
   "source": [
    "som_muts_maf_annot[\"MUTATION_EFFECT\"].value_counts()"
   ]
  },
  {
   "cell_type": "code",
   "execution_count": 29,
   "metadata": {},
   "outputs": [
    {
     "data": {
      "text/plain": [
       "ONCOGENIC\n",
       "Likely Oncogenic    776\n",
       "Oncogenic            75\n",
       "Name: count, dtype: int64"
      ]
     },
     "execution_count": 29,
     "metadata": {},
     "output_type": "execute_result"
    }
   ],
   "source": [
    "som_muts_maf_annot[\"ONCOGENIC\"].value_counts()"
   ]
  },
  {
   "cell_type": "markdown",
   "metadata": {},
   "source": [
    "## Ploting comut"
   ]
  },
  {
   "cell_type": "code",
   "execution_count": 30,
   "metadata": {},
   "outputs": [],
   "source": [
    "models = pd.read_pickle(\"pydata/model_data.pkl\")"
   ]
  },
  {
   "cell_type": "code",
   "execution_count": 31,
   "metadata": {},
   "outputs": [
    {
     "data": {
      "text/html": [
       "<div>\n",
       "<style scoped>\n",
       "    .dataframe tbody tr th:only-of-type {\n",
       "        vertical-align: middle;\n",
       "    }\n",
       "\n",
       "    .dataframe tbody tr th {\n",
       "        vertical-align: top;\n",
       "    }\n",
       "\n",
       "    .dataframe thead th {\n",
       "        text-align: right;\n",
       "    }\n",
       "</style>\n",
       "<table border=\"1\" class=\"dataframe\">\n",
       "  <thead>\n",
       "    <tr style=\"text-align: right;\">\n",
       "      <th></th>\n",
       "      <th>ModelID</th>\n",
       "      <th>PatientID</th>\n",
       "      <th>CellLineName</th>\n",
       "      <th>StrippedCellLineName</th>\n",
       "      <th>DepmapModelType</th>\n",
       "      <th>OncotreeLineage</th>\n",
       "      <th>OncotreePrimaryDisease</th>\n",
       "      <th>OncotreeSubtype</th>\n",
       "      <th>OncotreeCode</th>\n",
       "      <th>PatientSubtypeFeatures</th>\n",
       "      <th>...</th>\n",
       "      <th>EngineeredModelDetails</th>\n",
       "      <th>CulturedResistanceDrug</th>\n",
       "      <th>PublicComments</th>\n",
       "      <th>CCLEName</th>\n",
       "      <th>HCMIID</th>\n",
       "      <th>ModelAvailableInDbgap</th>\n",
       "      <th>ModelSubtypeFeatures</th>\n",
       "      <th>WTSIMasterCellID</th>\n",
       "      <th>SangerModelID</th>\n",
       "      <th>COSMICID</th>\n",
       "    </tr>\n",
       "  </thead>\n",
       "  <tbody>\n",
       "    <tr>\n",
       "      <th>0</th>\n",
       "      <td>ACH-000001</td>\n",
       "      <td>PT-gj46wT</td>\n",
       "      <td>NIH:OVCAR-3</td>\n",
       "      <td>NIHOVCAR3</td>\n",
       "      <td>HGSOC</td>\n",
       "      <td>Ovary/Fallopian Tube</td>\n",
       "      <td>Ovarian Epithelial Tumor</td>\n",
       "      <td>High-Grade Serous Ovarian Cancer</td>\n",
       "      <td>HGSOC</td>\n",
       "      <td>None</td>\n",
       "      <td>...</td>\n",
       "      <td>None</td>\n",
       "      <td>None</td>\n",
       "      <td>None</td>\n",
       "      <td>NIHOVCAR3_OVARY</td>\n",
       "      <td>None</td>\n",
       "      <td>Available in SRA</td>\n",
       "      <td>None</td>\n",
       "      <td>2201.0</td>\n",
       "      <td>SIDM00105</td>\n",
       "      <td>905933.0</td>\n",
       "    </tr>\n",
       "    <tr>\n",
       "      <th>1</th>\n",
       "      <td>ACH-000002</td>\n",
       "      <td>PT-5qa3uk</td>\n",
       "      <td>HL-60</td>\n",
       "      <td>HL60</td>\n",
       "      <td>AML</td>\n",
       "      <td>Myeloid</td>\n",
       "      <td>Acute Myeloid Leukemia</td>\n",
       "      <td>Acute Myeloid Leukemia</td>\n",
       "      <td>AML</td>\n",
       "      <td>TP53(del), CDKN2A and NRAS mutations [PubMed=2...</td>\n",
       "      <td>...</td>\n",
       "      <td>None</td>\n",
       "      <td>None</td>\n",
       "      <td>None</td>\n",
       "      <td>HL60_HAEMATOPOIETIC_AND_LYMPHOID_TISSUE</td>\n",
       "      <td>None</td>\n",
       "      <td>Available in SRA</td>\n",
       "      <td>None</td>\n",
       "      <td>55.0</td>\n",
       "      <td>SIDM00829</td>\n",
       "      <td>905938.0</td>\n",
       "    </tr>\n",
       "    <tr>\n",
       "      <th>2</th>\n",
       "      <td>ACH-000003</td>\n",
       "      <td>PT-puKIyc</td>\n",
       "      <td>CACO2</td>\n",
       "      <td>CACO2</td>\n",
       "      <td>COAD</td>\n",
       "      <td>Bowel</td>\n",
       "      <td>Colorectal Adenocarcinoma</td>\n",
       "      <td>Colon Adenocarcinoma</td>\n",
       "      <td>COAD</td>\n",
       "      <td>None</td>\n",
       "      <td>...</td>\n",
       "      <td>None</td>\n",
       "      <td>None</td>\n",
       "      <td>None</td>\n",
       "      <td>CACO2_LARGE_INTESTINE</td>\n",
       "      <td>None</td>\n",
       "      <td>Available in SRA</td>\n",
       "      <td>None</td>\n",
       "      <td>NaN</td>\n",
       "      <td>SIDM00891</td>\n",
       "      <td>NaN</td>\n",
       "    </tr>\n",
       "    <tr>\n",
       "      <th>3</th>\n",
       "      <td>ACH-000004</td>\n",
       "      <td>PT-q4K2cp</td>\n",
       "      <td>HEL</td>\n",
       "      <td>HEL</td>\n",
       "      <td>AML</td>\n",
       "      <td>Myeloid</td>\n",
       "      <td>Acute Myeloid Leukemia</td>\n",
       "      <td>Acute Myeloid Leukemia</td>\n",
       "      <td>AML</td>\n",
       "      <td>JAK2 and TP53 mutations,</td>\n",
       "      <td>...</td>\n",
       "      <td>None</td>\n",
       "      <td>None</td>\n",
       "      <td>None</td>\n",
       "      <td>HEL_HAEMATOPOIETIC_AND_LYMPHOID_TISSUE</td>\n",
       "      <td>None</td>\n",
       "      <td>Available in SRA</td>\n",
       "      <td>None</td>\n",
       "      <td>783.0</td>\n",
       "      <td>SIDM00594</td>\n",
       "      <td>907053.0</td>\n",
       "    </tr>\n",
       "    <tr>\n",
       "      <th>4</th>\n",
       "      <td>ACH-000005</td>\n",
       "      <td>PT-q4K2cp</td>\n",
       "      <td>HEL 92.1.7</td>\n",
       "      <td>HEL9217</td>\n",
       "      <td>AML</td>\n",
       "      <td>Myeloid</td>\n",
       "      <td>Acute Myeloid Leukemia</td>\n",
       "      <td>Acute Myeloid Leukemia</td>\n",
       "      <td>AML</td>\n",
       "      <td>JAK2 and TP53 mutations</td>\n",
       "      <td>...</td>\n",
       "      <td>None</td>\n",
       "      <td>None</td>\n",
       "      <td>None</td>\n",
       "      <td>HEL9217_HAEMATOPOIETIC_AND_LYMPHOID_TISSUE</td>\n",
       "      <td>None</td>\n",
       "      <td>Available in SRA</td>\n",
       "      <td>None</td>\n",
       "      <td>NaN</td>\n",
       "      <td>SIDM00593</td>\n",
       "      <td>NaN</td>\n",
       "    </tr>\n",
       "  </tbody>\n",
       "</table>\n",
       "<p>5 rows × 47 columns</p>\n",
       "</div>"
      ],
      "text/plain": [
       "      ModelID  PatientID CellLineName StrippedCellLineName DepmapModelType  \\\n",
       "0  ACH-000001  PT-gj46wT  NIH:OVCAR-3            NIHOVCAR3           HGSOC   \n",
       "1  ACH-000002  PT-5qa3uk        HL-60                 HL60             AML   \n",
       "2  ACH-000003  PT-puKIyc        CACO2                CACO2            COAD   \n",
       "3  ACH-000004  PT-q4K2cp          HEL                  HEL             AML   \n",
       "4  ACH-000005  PT-q4K2cp   HEL 92.1.7              HEL9217             AML   \n",
       "\n",
       "        OncotreeLineage     OncotreePrimaryDisease  \\\n",
       "0  Ovary/Fallopian Tube   Ovarian Epithelial Tumor   \n",
       "1               Myeloid     Acute Myeloid Leukemia   \n",
       "2                 Bowel  Colorectal Adenocarcinoma   \n",
       "3               Myeloid     Acute Myeloid Leukemia   \n",
       "4               Myeloid     Acute Myeloid Leukemia   \n",
       "\n",
       "                    OncotreeSubtype OncotreeCode  \\\n",
       "0  High-Grade Serous Ovarian Cancer        HGSOC   \n",
       "1            Acute Myeloid Leukemia          AML   \n",
       "2              Colon Adenocarcinoma         COAD   \n",
       "3            Acute Myeloid Leukemia          AML   \n",
       "4            Acute Myeloid Leukemia          AML   \n",
       "\n",
       "                              PatientSubtypeFeatures  ...  \\\n",
       "0                                               None  ...   \n",
       "1  TP53(del), CDKN2A and NRAS mutations [PubMed=2...  ...   \n",
       "2                                               None  ...   \n",
       "3                           JAK2 and TP53 mutations,  ...   \n",
       "4                            JAK2 and TP53 mutations  ...   \n",
       "\n",
       "  EngineeredModelDetails  CulturedResistanceDrug PublicComments  \\\n",
       "0                   None                    None           None   \n",
       "1                   None                    None           None   \n",
       "2                   None                    None           None   \n",
       "3                   None                    None           None   \n",
       "4                   None                    None           None   \n",
       "\n",
       "                                     CCLEName HCMIID ModelAvailableInDbgap  \\\n",
       "0                             NIHOVCAR3_OVARY   None      Available in SRA   \n",
       "1     HL60_HAEMATOPOIETIC_AND_LYMPHOID_TISSUE   None      Available in SRA   \n",
       "2                       CACO2_LARGE_INTESTINE   None      Available in SRA   \n",
       "3      HEL_HAEMATOPOIETIC_AND_LYMPHOID_TISSUE   None      Available in SRA   \n",
       "4  HEL9217_HAEMATOPOIETIC_AND_LYMPHOID_TISSUE   None      Available in SRA   \n",
       "\n",
       "  ModelSubtypeFeatures WTSIMasterCellID SangerModelID  COSMICID  \n",
       "0                 None           2201.0     SIDM00105  905933.0  \n",
       "1                 None             55.0     SIDM00829  905938.0  \n",
       "2                 None              NaN     SIDM00891       NaN  \n",
       "3                 None            783.0     SIDM00594  907053.0  \n",
       "4                 None              NaN     SIDM00593       NaN  \n",
       "\n",
       "[5 rows x 47 columns]"
      ]
     },
     "execution_count": 31,
     "metadata": {},
     "output_type": "execute_result"
    }
   ],
   "source": [
    "models.head()"
   ]
  },
  {
   "cell_type": "code",
   "execution_count": 32,
   "metadata": {},
   "outputs": [],
   "source": [
    "models = models.merge(profiles[[\"ModelID\", \"ProfileID\"]], on = \"ModelID\")"
   ]
  },
  {
   "cell_type": "code",
   "execution_count": 33,
   "metadata": {},
   "outputs": [],
   "source": [
    "models = models.loc[models[\"ProfileID\"].isin(som_muts_maf_annot[\"Tumor_Sample_Barcode\"].values)]"
   ]
  },
  {
   "cell_type": "code",
   "execution_count": 34,
   "metadata": {},
   "outputs": [
    {
     "data": {
      "text/html": [
       "<div>\n",
       "<style scoped>\n",
       "    .dataframe tbody tr th:only-of-type {\n",
       "        vertical-align: middle;\n",
       "    }\n",
       "\n",
       "    .dataframe tbody tr th {\n",
       "        vertical-align: top;\n",
       "    }\n",
       "\n",
       "    .dataframe thead th {\n",
       "        text-align: right;\n",
       "    }\n",
       "</style>\n",
       "<table border=\"1\" class=\"dataframe\">\n",
       "  <thead>\n",
       "    <tr style=\"text-align: right;\">\n",
       "      <th></th>\n",
       "      <th>ModelID</th>\n",
       "      <th>PatientID</th>\n",
       "      <th>CellLineName</th>\n",
       "      <th>StrippedCellLineName</th>\n",
       "      <th>DepmapModelType</th>\n",
       "      <th>OncotreeLineage</th>\n",
       "      <th>OncotreePrimaryDisease</th>\n",
       "      <th>OncotreeSubtype</th>\n",
       "      <th>OncotreeCode</th>\n",
       "      <th>PatientSubtypeFeatures</th>\n",
       "      <th>...</th>\n",
       "      <th>CulturedResistanceDrug</th>\n",
       "      <th>PublicComments</th>\n",
       "      <th>CCLEName</th>\n",
       "      <th>HCMIID</th>\n",
       "      <th>ModelAvailableInDbgap</th>\n",
       "      <th>ModelSubtypeFeatures</th>\n",
       "      <th>WTSIMasterCellID</th>\n",
       "      <th>SangerModelID</th>\n",
       "      <th>COSMICID</th>\n",
       "      <th>ProfileID</th>\n",
       "    </tr>\n",
       "  </thead>\n",
       "  <tbody>\n",
       "    <tr>\n",
       "      <th>36</th>\n",
       "      <td>ACH-000015</td>\n",
       "      <td>PT-ffwajI</td>\n",
       "      <td>NCI-H1581</td>\n",
       "      <td>NCIH1581</td>\n",
       "      <td>LCLC</td>\n",
       "      <td>Lung</td>\n",
       "      <td>Non-Small Cell Lung Cancer</td>\n",
       "      <td>Large Cell Lung Carcinoma</td>\n",
       "      <td>LCLC</td>\n",
       "      <td>None</td>\n",
       "      <td>...</td>\n",
       "      <td>None</td>\n",
       "      <td>None</td>\n",
       "      <td>NCIH1581_LUNG</td>\n",
       "      <td>None</td>\n",
       "      <td>Available in SRA</td>\n",
       "      <td>None</td>\n",
       "      <td>1237.0</td>\n",
       "      <td>SIDM00748</td>\n",
       "      <td>908471.0</td>\n",
       "      <td>PR-l6NjDm</td>\n",
       "    </tr>\n",
       "    <tr>\n",
       "      <th>42</th>\n",
       "      <td>ACH-000018</td>\n",
       "      <td>PT-Mi0cKz</td>\n",
       "      <td>T24</td>\n",
       "      <td>T24</td>\n",
       "      <td>BLCA</td>\n",
       "      <td>Bladder/Urinary Tract</td>\n",
       "      <td>Bladder Urothelial Carcinoma</td>\n",
       "      <td>Bladder Urothelial Carcinoma</td>\n",
       "      <td>BLCA</td>\n",
       "      <td>None</td>\n",
       "      <td>...</td>\n",
       "      <td>None</td>\n",
       "      <td>None</td>\n",
       "      <td>T24_URINARY_TRACT</td>\n",
       "      <td>None</td>\n",
       "      <td>Available in SRA</td>\n",
       "      <td>None</td>\n",
       "      <td>1455.0</td>\n",
       "      <td>SIDM01184</td>\n",
       "      <td>724812.0</td>\n",
       "      <td>PR-gCyy2l</td>\n",
       "    </tr>\n",
       "    <tr>\n",
       "      <th>45</th>\n",
       "      <td>ACH-000019</td>\n",
       "      <td>PT-viJKnw</td>\n",
       "      <td>MCF7</td>\n",
       "      <td>MCF7</td>\n",
       "      <td>BRCA</td>\n",
       "      <td>Breast</td>\n",
       "      <td>Invasive Breast Carcinoma</td>\n",
       "      <td>Invasive Breast Carcinoma</td>\n",
       "      <td>BRCA</td>\n",
       "      <td>None</td>\n",
       "      <td>...</td>\n",
       "      <td>None</td>\n",
       "      <td>None</td>\n",
       "      <td>MCF7_BREAST</td>\n",
       "      <td>None</td>\n",
       "      <td>Available in SRA</td>\n",
       "      <td>ER+</td>\n",
       "      <td>588.0</td>\n",
       "      <td>SIDM00148</td>\n",
       "      <td>905946.0</td>\n",
       "      <td>PR-nO7vwQ</td>\n",
       "    </tr>\n",
       "    <tr>\n",
       "      <th>151</th>\n",
       "      <td>ACH-000060</td>\n",
       "      <td>PT-9JMXWA</td>\n",
       "      <td>Panc 10.05</td>\n",
       "      <td>PANC1005</td>\n",
       "      <td>PAAD</td>\n",
       "      <td>Pancreas</td>\n",
       "      <td>Pancreatic Adenocarcinoma</td>\n",
       "      <td>Pancreatic Adenocarcinoma</td>\n",
       "      <td>PAAD</td>\n",
       "      <td>None</td>\n",
       "      <td>...</td>\n",
       "      <td>None</td>\n",
       "      <td>None</td>\n",
       "      <td>PANC1005_PANCREAS</td>\n",
       "      <td>None</td>\n",
       "      <td>Available in SRA</td>\n",
       "      <td>None</td>\n",
       "      <td>197.0</td>\n",
       "      <td>SIDM01135</td>\n",
       "      <td>925348.0</td>\n",
       "      <td>PR-3f91xT</td>\n",
       "    </tr>\n",
       "    <tr>\n",
       "      <th>152</th>\n",
       "      <td>ACH-000060</td>\n",
       "      <td>PT-9JMXWA</td>\n",
       "      <td>Panc 10.05</td>\n",
       "      <td>PANC1005</td>\n",
       "      <td>PAAD</td>\n",
       "      <td>Pancreas</td>\n",
       "      <td>Pancreatic Adenocarcinoma</td>\n",
       "      <td>Pancreatic Adenocarcinoma</td>\n",
       "      <td>PAAD</td>\n",
       "      <td>None</td>\n",
       "      <td>...</td>\n",
       "      <td>None</td>\n",
       "      <td>None</td>\n",
       "      <td>PANC1005_PANCREAS</td>\n",
       "      <td>None</td>\n",
       "      <td>Available in SRA</td>\n",
       "      <td>None</td>\n",
       "      <td>197.0</td>\n",
       "      <td>SIDM01135</td>\n",
       "      <td>925348.0</td>\n",
       "      <td>PR-d145Wa</td>\n",
       "    </tr>\n",
       "  </tbody>\n",
       "</table>\n",
       "<p>5 rows × 48 columns</p>\n",
       "</div>"
      ],
      "text/plain": [
       "        ModelID  PatientID CellLineName StrippedCellLineName DepmapModelType  \\\n",
       "36   ACH-000015  PT-ffwajI    NCI-H1581             NCIH1581            LCLC   \n",
       "42   ACH-000018  PT-Mi0cKz          T24                  T24            BLCA   \n",
       "45   ACH-000019  PT-viJKnw         MCF7                 MCF7            BRCA   \n",
       "151  ACH-000060  PT-9JMXWA   Panc 10.05             PANC1005            PAAD   \n",
       "152  ACH-000060  PT-9JMXWA   Panc 10.05             PANC1005            PAAD   \n",
       "\n",
       "           OncotreeLineage        OncotreePrimaryDisease  \\\n",
       "36                    Lung    Non-Small Cell Lung Cancer   \n",
       "42   Bladder/Urinary Tract  Bladder Urothelial Carcinoma   \n",
       "45                  Breast     Invasive Breast Carcinoma   \n",
       "151               Pancreas     Pancreatic Adenocarcinoma   \n",
       "152               Pancreas     Pancreatic Adenocarcinoma   \n",
       "\n",
       "                  OncotreeSubtype OncotreeCode PatientSubtypeFeatures  ...  \\\n",
       "36      Large Cell Lung Carcinoma         LCLC                   None  ...   \n",
       "42   Bladder Urothelial Carcinoma         BLCA                   None  ...   \n",
       "45      Invasive Breast Carcinoma         BRCA                   None  ...   \n",
       "151     Pancreatic Adenocarcinoma         PAAD                   None  ...   \n",
       "152     Pancreatic Adenocarcinoma         PAAD                   None  ...   \n",
       "\n",
       "    CulturedResistanceDrug  PublicComments           CCLEName HCMIID  \\\n",
       "36                    None            None      NCIH1581_LUNG   None   \n",
       "42                    None            None  T24_URINARY_TRACT   None   \n",
       "45                    None            None        MCF7_BREAST   None   \n",
       "151                   None            None  PANC1005_PANCREAS   None   \n",
       "152                   None            None  PANC1005_PANCREAS   None   \n",
       "\n",
       "    ModelAvailableInDbgap ModelSubtypeFeatures WTSIMasterCellID SangerModelID  \\\n",
       "36       Available in SRA                 None           1237.0     SIDM00748   \n",
       "42       Available in SRA                 None           1455.0     SIDM01184   \n",
       "45       Available in SRA                  ER+            588.0     SIDM00148   \n",
       "151      Available in SRA                 None            197.0     SIDM01135   \n",
       "152      Available in SRA                 None            197.0     SIDM01135   \n",
       "\n",
       "     COSMICID  ProfileID  \n",
       "36   908471.0  PR-l6NjDm  \n",
       "42   724812.0  PR-gCyy2l  \n",
       "45   905946.0  PR-nO7vwQ  \n",
       "151  925348.0  PR-3f91xT  \n",
       "152  925348.0  PR-d145Wa  \n",
       "\n",
       "[5 rows x 48 columns]"
      ]
     },
     "execution_count": 34,
     "metadata": {},
     "output_type": "execute_result"
    }
   ],
   "source": [
    "models.head()"
   ]
  },
  {
   "cell_type": "code",
   "execution_count": 35,
   "metadata": {},
   "outputs": [],
   "source": [
    "som_muts_maf_annot = pd.merge(how=\"left\", left=som_muts_maf_annot, left_on=\"Tumor_Sample_Barcode\",\n",
    "                              right=models[[\"ProfileID\", \"StrippedCellLineName\",\"OncotreeLineage\", \"ModelID\"]],\n",
    "                              right_on=\"ProfileID\",)"
   ]
  },
  {
   "cell_type": "markdown",
   "metadata": {},
   "source": [
    "### Comut by lineage"
   ]
  },
  {
   "cell_type": "code",
   "execution_count": 105,
   "metadata": {},
   "outputs": [],
   "source": [
    "def get_comut_by_lineage(lineage, w, h):\n",
    "    comut_data = som_muts_maf_annot.loc[som_muts_maf_annot[\"OncotreeLineage\"] == lineage, [\"Hugo_Symbol\", \"StrippedCellLineName\",\"Variant_Classification\", \"MUTATION_EFFECT\"]]\n",
    "    comut_data = comut_data.rename(columns={\"StrippedCellLineName\": \"sample\",\"Hugo_Symbol\": \"category\", \"Variant_Classification\": \"value\"})\n",
    "    e3l_comut = comut.CoMut()\n",
    "    e3l_comut.add_categorical_data(comut_data, name = 'Mutation type')\n",
    "    e3l_comut.plot_comut(figsize = (w,h))\n",
    "    e3l_comut.add_unified_legend()\n",
    "    plt.title(f\"E3 ligases mutations in {lineage}\")\n",
    "    "
   ]
  },
  {
   "cell_type": "code",
   "execution_count": 108,
   "metadata": {},
   "outputs": [
    {
     "data": {
      "image/png": "[encoded data removed]",
      "text/plain": [
       "<Figure size 500x500 with 1 Axes>"
      ]
     },
     "metadata": {},
     "output_type": "display_data"
    }
   ],
   "source": [
    "get_comut_by_lineage(\"Bone\", 5, 5)"
   ]
  },
  {
   "cell_type": "markdown",
   "metadata": {},
   "source": [
    "### Ploting mut/wt TF score"
   ]
  },
  {
   "cell_type": "code",
   "execution_count": 39,
   "metadata": {},
   "outputs": [],
   "source": [
    "tf_score = pd.read_pickle(\"pydata/tfs_dependencies_filtered.pkl\")"
   ]
  },
  {
   "cell_type": "code",
   "execution_count": 101,
   "metadata": {},
   "outputs": [],
   "source": [
    "def get_mut_wt_boxplot(e3, tf, lineage):\n",
    "    mut_lines = som_muts_maf_annot.loc[(som_muts_maf_annot[\"OncotreeLineage\"] == lineage) &\n",
    "                                    (som_muts_maf_annot[\"Hugo_Symbol\"] == e3), \"ModelID\"]\n",
    "    mut_score = tf_score.loc[tf_score.index.isin(mut_lines),tf]\n",
    "    wt_score = tf_score.loc[~tf_score.index.isin(mut_lines), tf]\n",
    "    statistic, p_value = mannwhitneyu(wt_score, mut_score, alternative='two-sided')\n",
    "    fig = plt.figure(figsize = (5,4))\n",
    "    ax = plt.subplot(111)\n",
    "    ax.boxplot([mut_score, wt_score], flierprops={'markersize': 2})\n",
    "    ax.set_xticklabels([\"MUT\", \"WT\"])\n",
    "    ax.spines[['right', 'top']].set_visible(False)\n",
    "    y, h, col = pd.concat([mut_score, wt_score]).max() +0.05, 0.1, 'k'\n",
    "    x1,x2 = 1, 2\n",
    "    plt.plot([x1, x1, x2, x2], [y, y+h, y+h, y], lw=1.5, c=col)\n",
    "    if p_value < 0.25:\n",
    "        plt.text((x1+x2)*.5, y+h, f\"{p_value:.3e}\", ha='center', va='bottom', color=col)\n",
    "    else:\n",
    "        plt.text((x1+x2)*.5, y+h, f\"ns\", ha='center', va='bottom', color=col) \n",
    "    plt.title(f\"{tf} effect in {e3} mutant cell lines\")\n",
    "    plt.show()"
   ]
  },
  {
   "cell_type": "code",
   "execution_count": 102,
   "metadata": {},
   "outputs": [
    {
     "data": {
      "image/png": "[encoded data removed]",
      "text/plain": [
       "<Figure size 500x400 with 1 Axes>"
      ]
     },
     "metadata": {},
     "output_type": "display_data"
    }
   ],
   "source": [
    "get_mut_wt_boxplot(\"EP300\", \"ARID3A\", \"Skin\")"
   ]
  }
 ],
 "metadata": {
  "kernelspec": {
   "display_name": "cpboot",
   "language": "python",
   "name": "python3"
  },
  "language_info": {
   "codemirror_mode": {
    "name": "ipython",
    "version": 3
   },
   "file_extension": ".py",
   "mimetype": "text/x-python",
   "name": "python",
   "nbconvert_exporter": "python",
   "pygments_lexer": "ipython3",
   "version": "3.13.2"
  }
 },
 "nbformat": 4,
 "nbformat_minor": 2
}
